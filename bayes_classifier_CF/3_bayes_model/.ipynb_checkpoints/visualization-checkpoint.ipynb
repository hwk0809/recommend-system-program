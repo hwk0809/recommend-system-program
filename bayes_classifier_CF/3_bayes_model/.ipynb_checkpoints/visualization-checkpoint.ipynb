{
 "cells": [
  {
   "cell_type": "code",
   "execution_count": 2,
   "metadata": {},
   "outputs": [],
   "source": [
    "from sklearn.metrics import confusion_matrix\n",
    "import matplotlib.pyplot as plt\n",
    "import numpy as np\n",
    "\n",
    "def plot_confusion_matrix(cm, savename, title='Confusion Matrix'):\n",
    "\n",
    "    plt.figure(figsize=(12, 8), dpi=100)\n",
    "    np.set_printoptions(precision=2)\n",
    "\n",
    "    # 在混淆矩阵中每格的概率值\n",
    "    ind_array = np.arange(len(classes))\n",
    "    x, y = np.meshgrid(ind_array, ind_array)\n",
    "    for x_val, y_val in zip(x.flatten(), y.flatten()):\n",
    "        c = cm[y_val][x_val]\n",
    "        if c > 0.001:\n",
    "            plt.text(x_val, y_val, \"%0.2f\" % (c,), color='white', fontsize=15, va='center', ha='center')\n",
    "    \n",
    "    plt.imshow(cm, interpolation='nearest', cmap=plt.cm.binary)\n",
    "    plt.title(title)\n",
    "    plt.colorbar()\n",
    "    xlocations = np.array(range(len(classes)))\n",
    "    plt.xticks(xlocations, classes, rotation=90)\n",
    "    plt.yticks(xlocations, classes)\n",
    "    plt.ylabel('Actual label')\n",
    "    plt.xlabel('Predict label')\n",
    "    \n",
    "    # offset the tick\n",
    "    tick_marks = np.array(range(len(classes))) + 0.5\n",
    "    plt.gca().set_xticks(tick_marks, minor=True)\n",
    "    plt.gca().set_yticks(tick_marks, minor=True)\n",
    "    plt.gca().xaxis.set_ticks_position('none')\n",
    "    plt.gca().yaxis.set_ticks_position('none')\n",
    "    plt.grid(True, which='minor', linestyle='-')\n",
    "    plt.gcf().subplots_adjust(bottom=0.15)\n",
    "    \n",
    "    # show confusion matrix\n",
    "    plt.savefig(savename, format='png')\n",
    "    plt.show()"
   ]
  },
  {
   "cell_type": "code",
   "execution_count": 404,
   "metadata": {},
   "outputs": [],
   "source": [
    "data1=np.load('label_1.npy')\n",
    "data2=np.load('label_2.npy')\n",
    "data3=np.load('label_3.npy')\n",
    "data4=np.load('label_4.npy')\n",
    "data5=np.load('label_5.npy')\n",
    "data6=np.load('label_6.npy')\n",
    "U_label = list(data1[0])+list(data2[0])+list(data3[0])+list(data4[0])+list(data5[0])+list(data6[0])\n",
    "I_label = list(data1[1])+list(data2[1])+list(data3[1])+list(data4[1])+list(data5[1])+list(data6[1])\n",
    "H_label = list(data1[2])+list(data2[2])+list(data3[2])+list(data4[2])+list(data5[2])+list(data6[2])\n",
    "T_label = list(data1[3])+list(data2[3])+list(data3[3])+list(data4[3])+list(data5[3])+list(data6[3])"
   ]
  },
  {
   "cell_type": "code",
   "execution_count": 409,
   "metadata": {},
   "outputs": [
    {
     "name": "stdout",
     "output_type": "stream",
     "text": [
      "[[0.5845828087444203, 0.41541719125557974], [0.1785116544883047, 0.8214883455116954]]\n"
     ]
    },
    {
     "data": {
      "image/png": "[encoded data removed]",
      "text/plain": [
       "<Figure size 1200x800 with 2 Axes>"
      ]
     },
     "metadata": {
      "needs_background": "light"
     },
     "output_type": "display_data"
    }
   ],
   "source": [
    "classes = ['dislike', 'like']\n",
    "\n",
    "#random_numbers = np.random.randint(6, size=50)  # 6个类别，随机生成50个样本\n",
    "#y_true = random_numbers.copy()  # 样本实际标签\n",
    "#random_numbers[:10] = np.random.randint(6, size=10)  # 将前10个样本的值进行随机更改\n",
    "#y_pred = random_numbers  # 样本预测标签\n",
    "\n",
    "# 获取混淆矩阵\n",
    "cm = confusion_matrix((np.array(T_label)>3.5), (np.array(H_label)>3.5))\n",
    "cm = np.array(cm)\n",
    "dm = []\n",
    "for i in range(2):\n",
    "    num = sum(cm[i])\n",
    "    em=[]\n",
    "    for j in range(2):\n",
    "        em.append(cm[i][j]/num)\n",
    "    dm.append(em)\n",
    "print(dm)\n",
    "plot_confusion_matrix(dm, 'confusion_matrix3.png', title='confusion matrix')"
   ]
  },
  {
   "cell_type": "code",
   "execution_count": 13,
   "metadata": {},
   "outputs": [
    {
     "name": "stdout",
     "output_type": "stream",
     "text": [
      "41971\n"
     ]
    }
   ],
   "source": [
    "print(len(T_label))"
   ]
  },
  {
   "cell_type": "code",
   "execution_count": 3,
   "metadata": {},
   "outputs": [],
   "source": [
    "data_all_1 = np.load('data_all_1.npy')\n",
    "data_all_2 = np.load('data_all_2.npy')\n",
    "data_all_3 = np.load('data_all_3.npy')\n",
    "data_all_4 = np.load('data_all_4.npy')\n",
    "data_all_5 = np.load('data_all_5.npy')\n",
    "data_all_6 = np.load('data_all_6.npy')"
   ]
  },
  {
   "cell_type": "code",
   "execution_count": 389,
   "metadata": {},
   "outputs": [],
   "source": [
    "data_all_7 = np.load('data_all_1_1.npy')\n",
    "data_all_8 = np.load('data_all_2_1.npy')\n",
    "data_all_9 = np.load('data_all_3_1.npy')"
   ]
  },
  {
   "cell_type": "code",
   "execution_count": 410,
   "metadata": {},
   "outputs": [],
   "source": [
    "data_all_10 = np.load('cluster_SOM1.npy')"
   ]
  },
  {
   "cell_type": "code",
   "execution_count": 348,
   "metadata": {},
   "outputs": [],
   "source": [
    "data_all_all = np.load('cluster_kmeans.npy')"
   ]
  },
  {
   "cell_type": "code",
   "execution_count": 358,
   "metadata": {},
   "outputs": [
    {
     "data": {
      "text/plain": [
       "array([[2.83153898, 2.83153898, 2.83153898, 2.83153898, 2.83153898,\n",
       "        2.83153898, 2.83153898, 2.83153898, 2.83153898],\n",
       "       [0.5       , 0.66666667, 0.5       , 0.6       , 0.66666667,\n",
       "        0.71428571, 0.75      , 0.66666667, 0.7       ],\n",
       "       [0.01960784, 0.03921569, 0.03921569, 0.05882353, 0.07843137,\n",
       "        0.09803922, 0.11764706, 0.11764706, 0.1372549 ],\n",
       "       [0.        , 0.        , 0.        , 0.        , 0.10778916,\n",
       "        0.09791293, 0.09010001, 0.08372492, 0.07839827]])"
      ]
     },
     "execution_count": 358,
     "metadata": {},
     "output_type": "execute_result"
    }
   ],
   "source": [
    "data_all_all[1207]"
   ]
  },
  {
   "cell_type": "code",
   "execution_count": 25,
   "metadata": {},
   "outputs": [],
   "source": [
    "def handdle_part_data(all_data, N):\n",
    "    N_U_index_MAE=[]\n",
    "    N_U_index_prec=[]\n",
    "    N_U_index_recall=[]\n",
    "    N_U_index_DCG=[]\n",
    "    N_I_index_MAE=[]\n",
    "    N_I_index_prec=[]\n",
    "    N_I_index_recall=[]\n",
    "    N_I_index_DCG=[]\n",
    "    N_H_index_MAE=[]\n",
    "    N_H_index_prec=[]\n",
    "    N_H_index_recall=[]\n",
    "    N_H_index_DCG=[]\n",
    "    for i in range(6):\n",
    "        data = all_data[i]\n",
    "        N_U_index_MAE.append(sum([data[0][i][:,N-2][0] for i in range(200)])/200)\n",
    "        N_U_index_prec.append(sum([data[0][i][:,N-2][1] for i in range(200)])/200)\n",
    "        N_U_index_recall.append(handle([data[0][i][:,N-2][2] for i in range(200)]))\n",
    "        N_U_index_DCG.append(sum([data[0][i][:,N-2][3] for i in range(200)])/200)\n",
    "\n",
    "        N_I_index_MAE.append(sum([data[1][i][:,N-2][0] for i in range(200)])/200)\n",
    "        N_I_index_prec.append(sum([data[1][i][:,N-2][1] for i in range(200)])/200)\n",
    "        N_I_index_recall.append(handle([data[1][i][:,N-2][2] for i in range(200)]))\n",
    "        N_I_index_DCG.append(sum([data[1][i][:,N-2][3] for i in range(200)])/200)\n",
    "\n",
    "        N_H_index_MAE.append(sum([data[2][i][:,N-2][0] for i in range(200)])/200)\n",
    "        N_H_index_prec.append(sum([data[2][i][:,N-2][1] for i in range(200)])/200)\n",
    "        N_H_index_recall.append(handle([data[2][i][:,N-2][2] for i in range(200)]))\n",
    "        N_H_index_DCG.append(sum([data[2][i][:,N-2][3] for i in range(200)])/200)\n",
    "    a1 = sum(N_U_index_MAE)/6\n",
    "    b1 = sum(N_U_index_prec)/6\n",
    "    c1 = sum(N_U_index_recall)/6\n",
    "    d1 = sum(N_U_index_DCG)/6\n",
    "    a2 = sum(N_I_index_MAE)/6\n",
    "    b2 = sum(N_I_index_prec)/6\n",
    "    c2 = sum(N_I_index_recall)/6\n",
    "    d2 = sum(N_I_index_DCG)/6\n",
    "    a3 = sum(N_H_index_MAE)/6\n",
    "    b3 = sum(N_H_index_prec)/6\n",
    "    c3 = sum(N_H_index_recall)/6\n",
    "    d3 = sum(N_H_index_DCG)/6\n",
    "    return [[a1,b1,c1,d1],[a2,b2,c2,d2],[a3,b3,c3,d3]]"
   ]
  },
  {
   "cell_type": "code",
   "execution_count": 394,
   "metadata": {},
   "outputs": [],
   "source": [
    "def handdle_part_data3(all_data, N):\n",
    "    N_U_index_MAE=[]\n",
    "    N_U_index_prec=[]\n",
    "    N_U_index_recall=[]\n",
    "    N_U_index_DCG=[]\n",
    "    for i in range(3):\n",
    "        data = all_data[i]\n",
    "        N_U_index_MAE.append(sum([data[i][:,N-2][0] for i in range(400)])/400)\n",
    "        N_U_index_prec.append(sum([data[i][:,N-2][1] for i in range(400)])/400)\n",
    "        N_U_index_recall.append(handle([data[i][:,N-2][2] for i in range(400)]))\n",
    "        N_U_index_DCG.append(sum([data[i][:,N-2][3] for i in range(400)])/400)\n",
    "    a1 = sum(N_U_index_MAE)/3\n",
    "    b1 = sum(N_U_index_prec)/3\n",
    "    c1 = sum(N_U_index_recall)/3\n",
    "    d1 = sum(N_U_index_DCG)/3\n",
    "    return [[a1,b1,c1,d1]]"
   ]
  },
  {
   "cell_type": "code",
   "execution_count": 379,
   "metadata": {},
   "outputs": [
    {
     "data": {
      "text/plain": [
       "0.0"
      ]
     },
     "execution_count": 379,
     "metadata": {},
     "output_type": "execute_result"
    }
   ],
   "source": [
    "data_all_all[1207][:,0][3]"
   ]
  },
  {
   "cell_type": "code",
   "execution_count": 366,
   "metadata": {},
   "outputs": [],
   "source": [
    "def handdle_part_data2(all_data, N):\n",
    "    N_U_index_MAE=[]\n",
    "    N_U_index_prec=[]\n",
    "    N_U_index_recall=[]\n",
    "    N_U_index_DCG=[]\n",
    "    data = all_data\n",
    "    N_U_index_MAE.append(sum([data[i][:,N-2][0] for i in range(1208)])/1208)\n",
    "    N_U_index_prec.append(sum([data[i][:,N-2][1] for i in range(1208)])/1208)\n",
    "    N_U_index_recall.append(handle([data[i][:,N-2][2] for i in range(1208)]))\n",
    "    N_U_index_DCG.append(sum([data[i][:,N-2][3] for i in range(1208)])/1208)\n",
    "    a1 = sum(N_U_index_MAE)\n",
    "    b1 = sum(N_U_index_prec)\n",
    "    c1 = sum(N_U_index_recall)\n",
    "    d1 = sum(N_U_index_DCG)\n",
    "    return [a1,b1,c1,d1]"
   ]
  },
  {
   "cell_type": "code",
   "execution_count": 381,
   "metadata": {},
   "outputs": [
    {
     "data": {
      "text/plain": [
       "[2.765509752541219, 0.6975211552612202, 0.5820857702612061, 0.7592687297686441]"
      ]
     },
     "execution_count": 381,
     "metadata": {},
     "output_type": "execute_result"
    }
   ],
   "source": [
    "handdle_part_data2(data_all_all, 10)"
   ]
  },
  {
   "cell_type": "code",
   "execution_count": 413,
   "metadata": {},
   "outputs": [
    {
     "data": {
      "text/plain": [
       "[1.93336873466319, 0.6865112214863868, 0.5773748430790205, 0.7383081669493622]"
      ]
     },
     "execution_count": 413,
     "metadata": {},
     "output_type": "execute_result"
    }
   ],
   "source": [
    "handdle_part_data2(data_all_10, 10)"
   ]
  },
  {
   "cell_type": "code",
   "execution_count": 34,
   "metadata": {},
   "outputs": [],
   "source": [
    "def handle(data):\n",
    "    data2=[]\n",
    "    for i in data:\n",
    "        if np.isnan(i):\n",
    "            continue\n",
    "        data2.append(i)\n",
    "    data3 = sum(data2)/len(data2)\n",
    "    return data3"
   ]
  },
  {
   "cell_type": "code",
   "execution_count": 390,
   "metadata": {},
   "outputs": [],
   "source": [
    "all_data_all_all = [data_all_7,data_all_8,data_all_9]"
   ]
  },
  {
   "cell_type": "code",
   "execution_count": 28,
   "metadata": {},
   "outputs": [
    {
     "data": {
      "text/plain": [
       "[[1.3684655538722346,\n",
       "  0.719525462962963,\n",
       "  0.5955237935182276,\n",
       "  0.7606709953956307],\n",
       " [0.7840446260049202,\n",
       "  0.7180254629629631,\n",
       "  0.5980880322728281,\n",
       "  0.7716469988164802],\n",
       " [0.8468699995307986,\n",
       "  0.7640254629629634,\n",
       "  0.6191973577077129,\n",
       "  0.8346142579242587]]"
      ]
     },
     "execution_count": 28,
     "metadata": {},
     "output_type": "execute_result"
    }
   ],
   "source": [
    "all_data = [data_all_1,data_all_2,data_all_3,data_all_4,data_all_5,data_all_6]\n",
    "handdle_part_data(all_data, 10)"
   ]
  },
  {
   "cell_type": "code",
   "execution_count": 395,
   "metadata": {},
   "outputs": [
    {
     "data": {
      "text/plain": [
       "[[1.7138844909189064,\n",
       "  0.6687500000000001,\n",
       "  0.16379310105779277,\n",
       "  0.38116200044751164]]"
      ]
     },
     "execution_count": 395,
     "metadata": {},
     "output_type": "execute_result"
    }
   ],
   "source": [
    "handdle_part_data3(all_data_all_all, 2)"
   ]
  },
  {
   "cell_type": "code",
   "execution_count": 46,
   "metadata": {},
   "outputs": [],
   "source": [
    "U_DCG= [handdle_part_data(all_data, N)[0][3] for N in range(2,11)]\n",
    "I_DCG= [handdle_part_data(all_data, N)[1][3] for N in range(2,11)]\n",
    "H_DCG= [handdle_part_data(all_data, N)[2][3] for N in range(2,11)]"
   ]
  },
  {
   "cell_type": "code",
   "execution_count": 384,
   "metadata": {},
   "outputs": [],
   "source": [
    "CK_DCG = [handdle_part_data2(data_all_all, N)[3] for N in range(2,11)]"
   ]
  },
  {
   "cell_type": "code",
   "execution_count": 396,
   "metadata": {},
   "outputs": [],
   "source": [
    "II_DCG = [handdle_part_data3(all_data_all_all, N)[0][3] for N in range(2,11)]"
   ]
  },
  {
   "cell_type": "code",
   "execution_count": 411,
   "metadata": {},
   "outputs": [],
   "source": [
    "SO_DCG = [handdle_part_data2(data_all_10, N)[3] for N in range(2,11)]"
   ]
  },
  {
   "cell_type": "code",
   "execution_count": 412,
   "metadata": {},
   "outputs": [
    {
     "data": {
      "image/png": "[encoded data removed]",
      "text/plain": [
       "<Figure size 432x288 with 1 Axes>"
      ]
     },
     "metadata": {
      "needs_background": "light"
     },
     "output_type": "display_data"
    }
   ],
   "source": [
    "plt.plot([2,3,4,5,6,7,8,9,10],U_DCG,'go-')\n",
    "plt.plot([2,3,4,5,6,7,8,9,10],I_DCG,'ro-')\n",
    "plt.plot([2,3,4,5,6,7,8,9,10],H_DCG,'bo-')\n",
    "plt.plot([2,3,4,5,6,7,8,9,10],CK_DCG,'ko-')\n",
    "plt.plot([2,3,4,5,6,7,8,9,10],SO_DCG,'mo-')\n",
    "plt.plot([2,3,4,5,6,7,8,9,10],II_DCG,'yo-')\n",
    "plt.xlabel('number of recommendations')\n",
    "plt.ylabel('DCG@N')\n",
    "plt.legend(['NBCF_user','NBCF_item','NBCF_hybrid','IBCF+Kmean','IBCF+SOM','IBCF'])\n",
    "plt.savefig(\"DCG3.png\")\n",
    "plt.show()"
   ]
  },
  {
   "cell_type": "code",
   "execution_count": 50,
   "metadata": {},
   "outputs": [],
   "source": [
    "U_recall= [handdle_part_data(all_data, N)[0][2] for N in range(2,11)]\n",
    "I_recall= [handdle_part_data(all_data, N)[1][2] for N in range(2,11)]\n",
    "H_recall= [handdle_part_data(all_data, N)[2][2] for N in range(2,11)]\n",
    "U_prec= [handdle_part_data(all_data, N)[0][1] for N in range(2,11)]\n",
    "I_prec= [handdle_part_data(all_data, N)[1][1] for N in range(2,11)]\n",
    "H_prec= [handdle_part_data(all_data, N)[2][1] for N in range(2,11)]"
   ]
  },
  {
   "cell_type": "code",
   "execution_count": 387,
   "metadata": {},
   "outputs": [],
   "source": [
    "CK_prec = [handdle_part_data2(data_all_all, N)[1] for N in range(2,11)]\n",
    "CK_recall = [handdle_part_data2(data_all_all, N)[2] for N in range(2,11)]"
   ]
  },
  {
   "cell_type": "code",
   "execution_count": 399,
   "metadata": {},
   "outputs": [],
   "source": [
    "II_prec = [handdle_part_data3(all_data_all_all, N)[0][1] for N in range(2,11)]\n",
    "II_recall = [handdle_part_data3(all_data_all_all, N)[0][2] for N in range(2,11)]"
   ]
  },
  {
   "cell_type": "code",
   "execution_count": 414,
   "metadata": {},
   "outputs": [],
   "source": [
    "SO_prec = [handdle_part_data2(data_all_10, N)[1] for N in range(2,11)]\n",
    "SO_recall = [handdle_part_data2(data_all_10, N)[2] for N in range(2,11)]"
   ]
  },
  {
   "cell_type": "code",
   "execution_count": 418,
   "metadata": {},
   "outputs": [],
   "source": [
    "np.save('Item',[II_prec, II_recall, II_DCG])"
   ]
  },
  {
   "cell_type": "code",
   "execution_count": 417,
   "metadata": {},
   "outputs": [],
   "source": [
    "np.save('SOM',[SO_prec, SO_recall, SO_DCG])\n",
    "np.save('CK', [CK_prec, CK_recall, CK_DCG])"
   ]
  },
  {
   "cell_type": "code",
   "execution_count": 416,
   "metadata": {},
   "outputs": [
    {
     "data": {
      "image/png": "[encoded data removed]",
      "text/plain": [
       "<Figure size 432x288 with 1 Axes>"
      ]
     },
     "metadata": {
      "needs_background": "light"
     },
     "output_type": "display_data"
    }
   ],
   "source": [
    "plt.plot(U_recall,U_prec,'go-')\n",
    "plt.plot(I_recall,I_prec,'ro-')\n",
    "plt.plot(H_recall,H_prec,'bo-')\n",
    "plt.plot(CK_recall,CK_prec,'ko-')\n",
    "plt.plot(SO_recall,SO_prec,'mo-')\n",
    "plt.plot(II_recall,II_prec,'yo-')\n",
    "plt.xlabel('recall')\n",
    "plt.ylabel('precision')\n",
    "plt.legend(['NBCF_user','NBCF_item','NBCF_hybrid','IBCF+Kmean','IBCF+SOM','IBCF'])\n",
    "plt.savefig(\"precision_recall_2.png\")\n",
    "plt.show()"
   ]
  },
  {
   "cell_type": "code",
   "execution_count": 116,
   "metadata": {},
   "outputs": [],
   "source": [
    "data_all_1 = np.load('label_all_1.npy', allow_pickle=True)\n",
    "data_all_2 = np.load('label_all_2.npy', allow_pickle=True)\n",
    "data_all_3 = np.load('label_all_3.npy', allow_pickle=True)\n",
    "data_all_4 = np.load('label_all_4.npy', allow_pickle=True)\n",
    "data_all_5 = np.load('label_all_5.npy', allow_pickle=True)\n",
    "data_all_6 = np.load('label_all_6.npy', allow_pickle=True)"
   ]
  },
  {
   "cell_type": "code",
   "execution_count": 117,
   "metadata": {},
   "outputs": [],
   "source": [
    "true_label = np.array(list(data_all_1[3])+list(data_all_2[3])+list(data_all_3[3])+list(data_all_4[3])+list(data_all_5[3])+list(data_all_6[3]),dtype=int)"
   ]
  },
  {
   "cell_type": "code",
   "execution_count": 187,
   "metadata": {},
   "outputs": [
    {
     "data": {
      "text/plain": [
       "2136"
      ]
     },
     "execution_count": 187,
     "metadata": {},
     "output_type": "execute_result"
    }
   ],
   "source": [
    "len(data_all_1[3])"
   ]
  },
  {
   "cell_type": "code",
   "execution_count": 124,
   "metadata": {},
   "outputs": [],
   "source": [
    "U_label_all = np.array([i[0] for i in data_all_1[0]]+[i[0] for i in data_all_2[0]]+[i[0] for i in data_all_3[0]]+[i[0] for i in data_all_4[0]]+[i[0] for i in data_all_5[0]]+[i[0] for i in data_all_6[0]])\n",
    "I_label_all = np.array([i[0] for i in data_all_1[1]]+[i[0] for i in data_all_2[1]]+[i[0] for i in data_all_3[1]]+[i[0] for i in data_all_4[1]]+[i[0] for i in data_all_5[1]]+[i[0] for i in data_all_6[1]])\n",
    "H_label_all = np.array([i[0] for i in data_all_1[2]]+[i[0] for i in data_all_2[2]]+[i[0] for i in data_all_3[2]]+[i[0] for i in data_all_4[2]]+[i[0] for i in data_all_5[2]]+[i[0] for i in data_all_6[2]])\n",
    "U_posi_all = np.array([i[1] for i in data_all_1[0]]+[i[1] for i in data_all_2[0]]+[i[1] for i in data_all_3[0]]+[i[1] for i in data_all_4[0]]+[i[1] for i in data_all_5[0]]+[i[1] for i in data_all_6[0]])\n",
    "I_posi_all = np.array([i[1] for i in data_all_1[1]]+[i[1] for i in data_all_2[1]]+[i[1] for i in data_all_3[1]]+[i[1] for i in data_all_4[1]]+[i[1] for i in data_all_5[1]]+[i[1] for i in data_all_6[1]])\n",
    "H_posi_all = np.array([i[1] for i in data_all_1[2]]+[i[1] for i in data_all_2[2]]+[i[1] for i in data_all_3[2]]+[i[1] for i in data_all_4[2]]+[i[1] for i in data_all_5[2]]+[i[1] for i in data_all_6[2]])"
   ]
  },
  {
   "cell_type": "code",
   "execution_count": 198,
   "metadata": {},
   "outputs": [
    {
     "data": {
      "text/plain": [
       "(array([    0,     1,     2, ..., 19574, 19575, 19576], dtype=int64),)"
      ]
     },
     "execution_count": 198,
     "metadata": {},
     "output_type": "execute_result"
    }
   ],
   "source": [
    "np.where(U_posi_all>0.5)"
   ]
  },
  {
   "cell_type": "code",
   "execution_count": 275,
   "metadata": {},
   "outputs": [],
   "source": [
    "from sklearn import metrics\n",
    "def cal_acc(U,P,pos1,pos2):\n",
    "    return metrics.accuracy_score(U[np.where(np.logical_and(P>pos1, P<=pos2))],true_label[np.where(np.logical_and(P>pos1, P<=pos2))]), len(np.where(np.logical_and(P>pos1, P<=pos2))[0])"
   ]
  },
  {
   "cell_type": "code",
   "execution_count": 340,
   "metadata": {},
   "outputs": [],
   "source": [
    "acc_reli = [cal_acc(U_label_all, U_posi_all, 0.2+0.1*i, 0.3+0.1*i) for i in range(2,8)]"
   ]
  },
  {
   "cell_type": "code",
   "execution_count": 341,
   "metadata": {},
   "outputs": [],
   "source": [
    "acc_reli1 = [cal_acc(I_label_all, I_posi_all, 0.2+0.1*i, 0.3+0.1*i) for i in range(2, 8)]"
   ]
  },
  {
   "cell_type": "code",
   "execution_count": 342,
   "metadata": {},
   "outputs": [],
   "source": [
    "acc_reli3 = [cal_acc(H_label_all, H_posi_all, 0.2+0.1*i, 0.3+0.1*i) for i in range(2, 8)]"
   ]
  },
  {
   "cell_type": "code",
   "execution_count": 336,
   "metadata": {},
   "outputs": [
    {
     "data": {
      "text/plain": [
       "[(0.6057829945605496, 3493),\n",
       " (0.7399577167019028, 473),\n",
       " (0.8024691358024691, 81),\n",
       " (0.9545454545454546, 22),\n",
       " (1.0, 6),\n",
       " (1.0, 1)]"
      ]
     },
     "execution_count": 336,
     "metadata": {},
     "output_type": "execute_result"
    }
   ],
   "source": [
    "acc_reli3"
   ]
  },
  {
   "cell_type": "code",
   "execution_count": 338,
   "metadata": {},
   "outputs": [
    {
     "data": {
      "text/plain": [
       "[(0.3192771084337349, 2324),\n",
       " (0.4520755862487668, 13177),\n",
       " (0.6057829945605496, 3493),\n",
       " (0.7399577167019028, 473),\n",
       " (0.8024691358024691, 81),\n",
       " (0.9545454545454546, 22),\n",
       " (1.0, 6),\n",
       " (1.0, 1)]"
      ]
     },
     "execution_count": 338,
     "metadata": {},
     "output_type": "execute_result"
    }
   ],
   "source": [
    "acc_reli3"
   ]
  },
  {
   "cell_type": "code",
   "execution_count": 269,
   "metadata": {},
   "outputs": [],
   "source": [
    "acc_reli = cal_acc(U_label_all, U_posi_all, 1, 1)\n",
    "cities = ['0.20-0.25','0.25-0.30', '0.30-0.35', '0.35-0.40','0.40-0.45','0.45-0.50','0.50-0.55','0.55-0.60','0.60-0.65','0.65-0.70','0.70-0.75','0.75-0.80','0.80-0.85','0.85-0.90','0.90-0.95','0.95-1.00']"
   ]
  },
  {
   "cell_type": "code",
   "execution_count": 343,
   "metadata": {},
   "outputs": [],
   "source": [
    "acc_reli = np.array(acc_reli)\n",
    "acc_reli[0][0] = 0.0263158\n",
    "acc_reli1 = np.array(acc_reli1)\n",
    "acc_reli3 = np.array(acc_reli3)\n",
    "acc_reli1[0][0] = 0.1589404\n",
    "acc_reli3[0][0] = 0.464094"
   ]
  },
  {
   "cell_type": "code",
   "execution_count": 306,
   "metadata": {},
   "outputs": [
    {
     "ename": "TypeError",
     "evalue": "list indices must be integers or slices, not tuple",
     "output_type": "error",
     "traceback": [
      "\u001b[1;31m---------------------------------------------------------------------------\u001b[0m",
      "\u001b[1;31mTypeError\u001b[0m                                 Traceback (most recent call last)",
      "\u001b[1;32m<ipython-input-306-1186a1d398e7>\u001b[0m in \u001b[0;36m<module>\u001b[1;34m\u001b[0m\n\u001b[0;32m      3\u001b[0m \u001b[0mgdps\u001b[0m \u001b[1;33m=\u001b[0m \u001b[1;33m[\u001b[0m\u001b[1;36m35371.3\u001b[0m\u001b[1;33m,\u001b[0m \u001b[1;36m38155.32\u001b[0m\u001b[1;33m,\u001b[0m \u001b[1;36m14104.28\u001b[0m\u001b[1;33m,\u001b[0m \u001b[1;36m23605.77\u001b[0m\u001b[1;33m]\u001b[0m\u001b[1;33m\u001b[0m\u001b[0m\n\u001b[0;32m      4\u001b[0m \u001b[0mplt\u001b[0m\u001b[1;33m.\u001b[0m\u001b[0mbar\u001b[0m\u001b[1;33m(\u001b[0m\u001b[0mcities\u001b[0m\u001b[1;33m,\u001b[0m \u001b[0macc_reli\u001b[0m\u001b[1;33m[\u001b[0m\u001b[1;33m:\u001b[0m\u001b[1;33m,\u001b[0m\u001b[1;36m0\u001b[0m\u001b[1;33m]\u001b[0m\u001b[1;33m,\u001b[0m \u001b[0mcolor\u001b[0m\u001b[1;33m=\u001b[0m\u001b[1;34m'b'\u001b[0m\u001b[1;33m,\u001b[0m \u001b[0mlabel\u001b[0m\u001b[1;33m=\u001b[0m\u001b[1;34m'NBCF_user'\u001b[0m\u001b[1;33m)\u001b[0m\u001b[1;33m\u001b[0m\u001b[0m\n\u001b[1;32m----> 5\u001b[1;33m \u001b[0mplt\u001b[0m\u001b[1;33m.\u001b[0m\u001b[0mbar\u001b[0m\u001b[1;33m(\u001b[0m\u001b[0mcities\u001b[0m\u001b[1;33m,\u001b[0m \u001b[0macc_reli1\u001b[0m\u001b[1;33m[\u001b[0m\u001b[1;33m:\u001b[0m\u001b[1;33m,\u001b[0m\u001b[1;36m0\u001b[0m\u001b[1;33m]\u001b[0m\u001b[1;33m,\u001b[0m \u001b[0mcolor\u001b[0m\u001b[1;33m=\u001b[0m\u001b[1;34m'r'\u001b[0m\u001b[1;33m,\u001b[0m \u001b[0mlabel\u001b[0m\u001b[1;33m=\u001b[0m\u001b[1;34m'NBCF_item'\u001b[0m\u001b[1;33m)\u001b[0m\u001b[1;33m\u001b[0m\u001b[0m\n\u001b[0m\u001b[0;32m      6\u001b[0m \u001b[0mplt\u001b[0m\u001b[1;33m.\u001b[0m\u001b[0mxlabel\u001b[0m\u001b[1;33m(\u001b[0m\u001b[1;34m'reliability'\u001b[0m\u001b[1;33m,\u001b[0m \u001b[0mfontsize\u001b[0m\u001b[1;33m=\u001b[0m\u001b[1;36m14\u001b[0m\u001b[1;33m)\u001b[0m\u001b[1;33m\u001b[0m\u001b[0m\n\u001b[0;32m      7\u001b[0m \u001b[0mplt\u001b[0m\u001b[1;33m.\u001b[0m\u001b[0mylabel\u001b[0m\u001b[1;33m(\u001b[0m\u001b[1;34m'accuracy'\u001b[0m\u001b[1;33m,\u001b[0m \u001b[0mfontsize\u001b[0m\u001b[1;33m=\u001b[0m\u001b[1;36m14\u001b[0m\u001b[1;33m)\u001b[0m\u001b[1;33m\u001b[0m\u001b[0m\n",
      "\u001b[1;31mTypeError\u001b[0m: list indices must be integers or slices, not tuple"
     ]
    },
    {
     "data": {
      "image/png": "[encoded data removed]",
      "text/plain": [
       "<Figure size 432x288 with 1 Axes>"
      ]
     },
     "metadata": {
      "needs_background": "light"
     },
     "output_type": "display_data"
    }
   ],
   "source": [
    "import matplotlib.pyplot as plt\n",
    "cities = ['0.2-0.3','0.3-0.4','0.4-0.5','0.5-0.6','0.6-0.7','0.7-0.8','0.8-0.9','0.9-1.0']\n",
    "gdps = [35371.3, 38155.32, 14104.28, 23605.77]\n",
    "plt.bar(cities, acc_reli[:,0], color='b', label='NBCF_user')\n",
    "plt.bar(cities, acc_reli1[:,0], color='r', label='NBCF_item')\n",
    "plt.xlabel('reliability', fontsize=14)\n",
    "plt.ylabel('accuracy', fontsize=14)\n",
    "plt.legend()\n",
    "plt.savefig(\"bar_U.png\")\n",
    "plt.show()"
   ]
  },
  {
   "cell_type": "code",
   "execution_count": 347,
   "metadata": {},
   "outputs": [
    {
     "data": {
      "image/png": "[encoded data removed]",
      "text/plain": [
       "<Figure size 432x288 with 1 Axes>"
      ]
     },
     "metadata": {
      "needs_background": "light"
     },
     "output_type": "display_data"
    }
   ],
   "source": [
    "waters = ['0.2-0.5','0.5-0.6','0.6-0.7','0.7-0.8','0.8-0.9','0.9-1.0']\n",
    "buy_number_male = acc_reli[:,0]\n",
    "buy_number_female = acc_reli1[:,0]\n",
    "buy_number_female1 = acc_reli3[:,0]\n",
    "bar_width = 0.3 # 条形宽度\n",
    "index_male = np.arange(len(waters)) # 男生条形图的横坐标\n",
    "index_female = index_male + bar_width # 女生条形图的横坐标\n",
    "index_female1 = index_male + 2*bar_width # 女生条形图的横坐标\n",
    "# 使用两次 bar 函数画出两组条形图\n",
    "plt.bar(index_male, height=buy_number_male, width=bar_width, color='b', label='NBCF_user')\n",
    "plt.bar(index_female, height=buy_number_female, width=bar_width, color='g', label='NBCF_item')\n",
    "plt.bar(index_female1, height=buy_number_female1, width=bar_width, color='r', label='NBCF_hybrid')\n",
    "plt.legend() # 显示图例\n",
    "plt.xticks(index_male + bar_width/2, waters) # 让横坐标轴刻度显示 waters 里的饮用水， index_male + bar_width/2 为横坐标轴刻度的位置\n",
    "plt.ylabel('accuracy') # 纵坐标轴标题\n",
    "plt.xlabel('reliablity') # 纵坐标轴标题\n",
    "plt.title('the reliablity of reliability') # 图形标题\n",
    "plt.savefig(\"bar.png\")\n",
    "plt.show()"
   ]
  },
  {
   "cell_type": "code",
   "execution_count": null,
   "metadata": {},
   "outputs": [],
   "source": [
    "plt.bar(index_male, height=buy_number_male, width=bar_width, color='b', label='男性')\n",
    "plt.bar(index_female, height=buy_number_female, width=bar_width, color='g', label='女性')"
   ]
  }
 ],
 "metadata": {
  "kernelspec": {
   "display_name": "Python 3",
   "language": "python",
   "name": "python3"
  },
  "language_info": {
   "codemirror_mode": {
    "name": "ipython",
    "version": 3
   },
   "file_extension": ".py",
   "mimetype": "text/x-python",
   "name": "python",
   "nbconvert_exporter": "python",
   "pygments_lexer": "ipython3",
   "version": "3.6.5"
  }
 },
 "nbformat": 4,
 "nbformat_minor": 4
}
