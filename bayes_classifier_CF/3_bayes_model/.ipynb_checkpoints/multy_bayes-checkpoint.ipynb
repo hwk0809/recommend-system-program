{
 "cells": [
  {
   "cell_type": "code",
   "execution_count": 165,
   "metadata": {},
   "outputs": [],
   "source": [
    "import numpy as np\n",
    "import pandas as pd\n",
    "import random\n",
    "import math\n",
    "from sklearn import metrics"
   ]
  },
  {
   "cell_type": "code",
   "execution_count": 4,
   "metadata": {},
   "outputs": [],
   "source": [
    "# 预载数据\n",
    "raw_rating_data = pd.read_csv('test2.csv')\n",
    "all_users_id = list(set(list(raw_rating_data['userId'])))\n",
    "all_users_id.sort()\n",
    "last_user_id = max(all_users_id)\n",
    "all_movies_id = set(list(raw_rating_data['movieId']))\n",
    "trans = list(all_movies_id)\n",
    "trans.sort()                                             # 电影编号从小到大排序\n",
    "\n",
    "user_movie_df = pd.read_csv('user_rating_matrix.csv')"
   ]
  },
  {
   "cell_type": "code",
   "execution_count": 7,
   "metadata": {},
   "outputs": [
    {
     "name": "stdout",
     "output_type": "stream",
     "text": [
      "输出完成\n"
     ]
    }
   ],
   "source": [
    "# 生成随机数种子并保存\n",
    "train_movie_num = int(len(all_movies_id)*0.8)\n",
    "train_user_num = int(len(all_users_id)*0.8)\n",
    "train_movie_index = random.sample(range(1,len(all_movies_id)+1),train_movie_num)  # 在所有电影中随机取80%为训练集\n",
    "test_movie_index = list(set(list(range(1, len(all_movies_id)+1))) ^ set(train_movie_index))\n",
    "train_user_index = random.sample(range(0,len(all_users_id)),train_user_num)  # 在所有用户中随机取80%为训练集\n",
    "test_user_index = list(set(list(range(0, len(all_users_id)))) ^ set(train_user_index))\n",
    "# 基于用户的需要先观测到相似用户对待预测项目的评分，因此需要多出item，但是user数目不变\n",
    "# 基于物品的需要先观测到相似物品被指定用户的评分，因此需要多出user，但是item数目不变\n",
    "\n",
    "zuoxiajiao_df = user_movie_df.loc[train_user_index]\n",
    "zuoxiajiao_df = zuoxiajiao_df[[str(i) for i in train_movie_index]]\n",
    "zuoxiajiao_df.to_csv('zuoxiajiao_df.csv') # 数据转化为CSV，并且将index行隐藏，得到每个用户的浏览新闻类别统计矩阵（28501×38）\n",
    "print(\"输出完成1\")"
   ]
  },
  {
   "cell_type": "code",
   "execution_count": 15,
   "metadata": {},
   "outputs": [
    {
     "name": "stdout",
     "output_type": "stream",
     "text": [
      "输出完成2\n",
      "输出完成3\n",
      "输出完成4\n"
     ]
    }
   ],
   "source": [
    "youshangjiao_df = user_movie_df.loc[test_user_index]\n",
    "youshangjiao_df = youshangjiao_df[[str(i) for i in test_movie_index]]\n",
    "youshangjiao_df.to_csv('youshangjiao_df.csv') # 数据转化为CSV，并且将index行隐藏，得到每个用户的浏览新闻类别统计矩阵（28501×38）\n",
    "print(\"输出完成2\")\n",
    "zuoshangjiao_df = user_movie_df.loc[test_user_index]\n",
    "zuoshangjiao_df = zuoshangjiao_df[[str(i) for i in train_movie_index]]\n",
    "zuoshangjiao_df.to_csv('zuoshangjiao_df.csv') # 数据转化为CSV，并且将index行隐藏，得到每个用户的浏览新闻类别统计矩阵（28501×38）\n",
    "print(\"输出完成3\")\n",
    "youxiajiao_df = user_movie_df.loc[train_user_index]\n",
    "youxiajiao_df = youxiajiao_df[[str(i) for i in test_movie_index]]\n",
    "youxiajiao_df.to_csv('youxiajiao_df.csv') # 数据转化为CSV，并且将index行隐藏，得到每个用户的浏览新闻类别统计矩阵（28501×38）\n",
    "print(\"输出完成4\")"
   ]
  },
  {
   "cell_type": "code",
   "execution_count": 361,
   "metadata": {},
   "outputs": [],
   "source": [
    "def NBC_UBCF(condition, observe):\n",
    "    index5=[i for i,x in enumerate(condition) if x==5]\n",
    "    index4=[i for i,x in enumerate(condition) if x==4]\n",
    "    index3=[i for i,x in enumerate(condition) if x==3]\n",
    "    index2=[i for i,x in enumerate(condition) if x==2]\n",
    "    index1=[i for i,x in enumerate(condition) if x==1]\n",
    "    index0=[i for i,x in enumerate(condition) if x==0]\n",
    "    all_len = len(condition)-len(index0)\n",
    "    index_all = [index0,index1,index2,index3,index4,index5]\n",
    "    def cal_condp(patial_feature, ob):\n",
    "        if ob==0:\n",
    "            return [1,1,1,1,1]                                    # 如果ob到的结果是这个用户没有评测，则返回五个均1值\n",
    "        patial_feature1= patial_feature[index1]\n",
    "        patial_feature2= patial_feature[index2]\n",
    "        patial_feature3= patial_feature[index3]\n",
    "        patial_feature4= patial_feature[index4]\n",
    "        patial_feature5= patial_feature[index5]\n",
    "        num=0\n",
    "        zero_num=0\n",
    "        for i in patial_feature1:\n",
    "            if i==ob:\n",
    "                num=num+1\n",
    "            if i==0:\n",
    "                zero_num = zero_num+1\n",
    "        condp1=(num+0.01)/(len(index1)-zero_num+0.05)\n",
    "        num=0\n",
    "        zero_num=0\n",
    "        for i in patial_feature2:\n",
    "            if i==ob:\n",
    "                num=num+1\n",
    "            if i==0:\n",
    "                zero_num = zero_num+1\n",
    "        condp2=(num+0.01)/(len(index2)-zero_num+0.05)\n",
    "        num=0\n",
    "        zero_num=0\n",
    "        for i in patial_feature3:\n",
    "            if i==ob:\n",
    "                num=num+1\n",
    "            if i==0:\n",
    "                zero_num = zero_num+1\n",
    "        condp3=(num+0.01)/(len(index3)-zero_num+0.05)\n",
    "        num=0\n",
    "        zero_num=0\n",
    "        for i in patial_feature4:\n",
    "            if i==ob:\n",
    "                num=num+1\n",
    "            if i==0:\n",
    "                zero_num = zero_num+1\n",
    "        condp4=(num+0.01)/(len(index4)-zero_num+0.05)\n",
    "        num=0\n",
    "        zero_num=0\n",
    "        for i in patial_feature5:\n",
    "            if i==ob:\n",
    "                num=num+1\n",
    "            if i==0:\n",
    "                zero_num = zero_num+1\n",
    "        condp5=(num+0.01)/(len(index5)-zero_num+0.05)\n",
    "        return [condp1,condp2,condp3,condp4,condp5]\n",
    "    condp_all = np.array([cal_condp(train_df[i],observe[i]) for i in range(len(observe))])\n",
    "    condp1 = sum([math.log(i, 2) for i in condp_all[:,0]])+math.log((len(index1)+0.01)/(all_len+0.05), 2)\n",
    "    condp2 = sum([math.log(i, 2) for i in condp_all[:,1]])+math.log((len(index2)+0.01)/(all_len+0.05), 2)\n",
    "    condp3 = sum([math.log(i, 2) for i in condp_all[:,2]])+math.log((len(index3)+0.01)/(all_len+0.05), 2)\n",
    "    condp4 = sum([math.log(i, 2) for i in condp_all[:,3]])+math.log((len(index4)+0.01)/(all_len+0.05), 2)\n",
    "    condp5 = sum([math.log(i, 2) for i in condp_all[:,4]])+math.log((len(index5)+0.01)/(all_len+0.05), 2)\n",
    "    all_condp = np.array([condp1,condp2,condp3,condp4,condp5])\n",
    "    max_index = np.argmax(all_condp)\n",
    "    all_condp = all_condp-all_condp[max_index]\n",
    "    reli = 1/sum([2**i for i in all_condp])\n",
    "    reli2 = (2**all_condp[3]+2**all_condp[4])/sum([2**i for i in all_condp])\n",
    "    #ondp1 = np.prod(condp_all[:,0])*(len(index1)+0.01)/(all_len+0.05)\n",
    "    #ondp2 = np.prod(condp_all[:,1])*(len(index2)+0.01)/(all_len+0.05)\n",
    "    #ondp3 = np.prod(condp_all[:,2])*(len(index3)+0.01)/(all_len+0.05)\n",
    "    #ondp4 = np.prod(condp_all[:,3])*(len(index4)+0.01)/(all_len+0.05)\n",
    "    #ondp5 = np.prod(condp_all[:,4])*(len(index5)+0.01)/(all_len+0.05)\n",
    "    return [max_index+1, reli,reli2], [condp1,condp2,condp3,condp4,condp5]"
   ]
  },
  {
   "cell_type": "code",
   "execution_count": 362,
   "metadata": {},
   "outputs": [],
   "source": [
    "def NBC_IBCF(condition, observe):\n",
    "    index5=[i for i,x in enumerate(condition) if x==5]\n",
    "    index4=[i for i,x in enumerate(condition) if x==4]\n",
    "    index3=[i for i,x in enumerate(condition) if x==3]\n",
    "    index2=[i for i,x in enumerate(condition) if x==2]\n",
    "    index1=[i for i,x in enumerate(condition) if x==1]\n",
    "    index0=[i for i,x in enumerate(condition) if x==0]\n",
    "    all_len = len(condition)-len(index0)\n",
    "    index_all = [index0,index1,index2,index3,index4,index5]\n",
    "    def cal_condp(patial_feature, ob):\n",
    "        if ob==0:\n",
    "            return [1,1,1,1,1]                                    # 如果ob到的结果是这个用户没有评测，则返回五个均1值\n",
    "        patial_feature1= patial_feature[index1]\n",
    "        patial_feature2= patial_feature[index2]\n",
    "        patial_feature3= patial_feature[index3]\n",
    "        patial_feature4= patial_feature[index4]\n",
    "        patial_feature5= patial_feature[index5]\n",
    "        num=0\n",
    "        zero_num=0\n",
    "        for i in patial_feature1:\n",
    "            if i==ob:\n",
    "                num=num+1\n",
    "            if i==0:\n",
    "                zero_num = zero_num+1\n",
    "        condp1=(num+0.01)/(len(index1)-zero_num+0.05)\n",
    "        num=0\n",
    "        zero_num=0\n",
    "        for i in patial_feature2:\n",
    "            if i==ob:\n",
    "                num=num+1\n",
    "            if i==0:\n",
    "                zero_num = zero_num+1\n",
    "        condp2=(num+0.01)/(len(index2)-zero_num+0.05)\n",
    "        num=0\n",
    "        zero_num=0\n",
    "        for i in patial_feature3:\n",
    "            if i==ob:\n",
    "                num=num+1\n",
    "            if i==0:\n",
    "                zero_num = zero_num+1\n",
    "        condp3=(num+0.01)/(len(index3)-zero_num+0.05)\n",
    "        num=0\n",
    "        zero_num=0\n",
    "        for i in patial_feature4:\n",
    "            if i==ob:\n",
    "                num=num+1\n",
    "            if i==0:\n",
    "                zero_num = zero_num+1\n",
    "        condp4=(num+0.01)/(len(index4)-zero_num+0.05)\n",
    "        num=0\n",
    "        zero_num=0\n",
    "        for i in patial_feature5:\n",
    "            if i==ob:\n",
    "                num=num+1\n",
    "            if i==0:\n",
    "                zero_num = zero_num+1\n",
    "        condp5=(num+0.01)/(len(index5)-zero_num+0.05)\n",
    "        return [condp1,condp2,condp3,condp4,condp5]\n",
    "    condp_all = np.array([cal_condp(train_dfT[i],observe[i]) for i in range(len(observe))]) # 唯一区别，仅在这里使用转置训练数据\n",
    "    condp1 = sum([math.log(i, 2) for i in condp_all[:,0]])+math.log((len(index1)+0.01)/(all_len+0.05), 2)\n",
    "    condp2 = sum([math.log(i, 2) for i in condp_all[:,1]])+math.log((len(index2)+0.01)/(all_len+0.05), 2)\n",
    "    condp3 = sum([math.log(i, 2) for i in condp_all[:,2]])+math.log((len(index3)+0.01)/(all_len+0.05), 2)\n",
    "    condp4 = sum([math.log(i, 2) for i in condp_all[:,3]])+math.log((len(index4)+0.01)/(all_len+0.05), 2)\n",
    "    condp5 = sum([math.log(i, 2) for i in condp_all[:,4]])+math.log((len(index5)+0.01)/(all_len+0.05), 2)\n",
    "    all_condp = np.array([condp1,condp2,condp3,condp4,condp5])\n",
    "    max_index = np.argmax(all_condp)\n",
    "    all_condp = all_condp-all_condp[max_index]\n",
    "    reli = 1/sum([2**i for i in all_condp])\n",
    "    reli2 = (2**all_condp[3]+2**all_condp[4])/sum([2**i for i in all_condp])\n",
    "    #condp1 = np.prod(condp_all[:,0])*(len(index1)+0.01)/(all_len+0.05)\n",
    "    #condp2 = np.prod(condp_all[:,1])*(len(index2)+0.01)/(all_len+0.05)\n",
    "    #condp3 = np.prod(condp_all[:,2])*(len(index3)+0.01)/(all_len+0.05)\n",
    "    #condp4 = np.prod(condp_all[:,3])*(len(index4)+0.01)/(all_len+0.05)\n",
    "    #condp5 = np.prod(condp_all[:,4])*(len(index5)+0.01)/(all_len+0.05)\n",
    "    return [max_index+1, reli, reli2], [condp1,condp2,condp3,condp4,condp5]"
   ]
  },
  {
   "cell_type": "code",
   "execution_count": 363,
   "metadata": {},
   "outputs": [],
   "source": [
    "def NBC_HBCF(condition, observe):\n",
    "    num1=len([i for i,x in enumerate(observe) if x!=0])\n",
    "    num2=len([i for i,x in enumerate(condition) if x!=0])\n",
    "    _, a = NBC_UBCF(condition, observe)\n",
    "    _, b = NBC_IBCF(observe, condition)\n",
    "    all_condp = np.array(a)/(1+num1)+np.array(b)/(1+num2)\n",
    "    return_out = list(all_condp)\n",
    "    max_index = np.argmax(all_condp)\n",
    "    all_condp = all_condp-all_condp[max_index]\n",
    "    reli = 1/sum([2**i for i in all_condp])\n",
    "    reli2 = (2**all_condp[3]+2**all_condp[4])/sum([2**i for i in all_condp])\n",
    "    return [max_index+1, reli, reli2], return_out"
   ]
  },
  {
   "cell_type": "code",
   "execution_count": 115,
   "metadata": {},
   "outputs": [],
   "source": [
    "train_df=np.array([[5,3,0,2,3,4,3,0],[1,2,0,2,4,4,5,0],[2,2,3,0,1,3,2,0],[1,5,5,4,4,5,2,0]])\n",
    "train_dfT=np.transpose(train_df)\n",
    "condition = [1,2,2,5,0,4,3,5]\n",
    "observe = [1,1,3,5]                # 初始训练数据"
   ]
  },
  {
   "cell_type": "code",
   "execution_count": 116,
   "metadata": {},
   "outputs": [
    {
     "name": "stdout",
     "output_type": "stream",
     "text": [
      "([2, 0.5060677188251034], [-23.002038552447054, -16.28861581651964, -29.66025003519885, -16.343827069695262, -24.275092403992957])\n",
      "([1, 0.9944569745412293], [-16.4262969544607, -24.91527476198352, -33.56043891037373, -24.91527476198352, -37.95275633315249])\n",
      "([2, 0.3337842416936521], [-6.653694829796999, -6.372132508551868, -10.127104870836487, -6.383174759186993, -9.599113022442653])\n"
     ]
    }
   ],
   "source": [
    "a = NBC_UBCF(condition, observe)\n",
    "print(a)\n",
    "b = NBC_IBCF(observe, condition)   # 调用是观测与条件互换\n",
    "print(b)\n",
    "c = NBC_HBCF(condition, observe)\n",
    "print(c)"
   ]
  },
  {
   "cell_type": "code",
   "execution_count": 155,
   "metadata": {},
   "outputs": [],
   "source": [
    "zuoxiajiao = pd.read_csv('zuoxiajiao_df.csv')\n",
    "zuoshangjiao = pd.read_csv('zuoshangjiao_df.csv')\n",
    "youxiajiao = pd.read_csv('youxiajiao_df.csv')\n",
    "youshangjiao = pd.read_csv('youshangjiao_df.csv')\n",
    "train_df = zuoxiajiao.values\n",
    "test_df = youshangjiao.values\n",
    "train_df = train_df[:,1:]\n",
    "train_dfT = np.transpose(train_df)\n",
    "test_users = test_df[:,0]\n",
    "test_items = list(youshangjiao.columns)[1:]"
   ]
  },
  {
   "cell_type": "code",
   "execution_count": 365,
   "metadata": {},
   "outputs": [],
   "source": [
    "def cal_recommend(U, N):\n",
    "    U_recommend = []\n",
    "    U_recommend = list(U[:,2].argsort()[::-1][0:N])\n",
    "    print(U_recommend)\n",
    "    return U_recommend"
   ]
  },
  {
   "cell_type": "code",
   "execution_count": 245,
   "metadata": {},
   "outputs": [],
   "source": [
    "def cal_recommend(U, N):\n",
    "    U_recommend = []\n",
    "    index_5 = np.where(U[:,0]==5)[0]\n",
    "    index_4 = np.where(U[:,0]==4)[0]\n",
    "    index_3 = np.where(U[:,0]==3)[0]\n",
    "    index_2 = np.where(U[:,0]==2)[0]\n",
    "    if (N<=len(index_5)):\n",
    "        top_N_idx=U[:,1][index_5].argsort()[::-1][0:N]\n",
    "        U_recommend = np.array(index_5)[top_N_idx]\n",
    "    if (N>len(index_5) and N<=(len(index_5)+len(index_4))):\n",
    "        top_N_idx=U[:,1][index_5].argsort()[::-1]\n",
    "        U_recommend = np.array(index_5)[top_N_idx]\n",
    "        top_N_idx=U[:,1][index_4].argsort()[::-1][0:(N-len(index_5))]\n",
    "        U_recommend = list(U_recommend)+list(np.array(index_4)[top_N_idx])\n",
    "    if (N<=(len(index_5)+len(index_4)+len(index_3)) and N>(len(index_5)+len(index_4))):\n",
    "        top_N_idx=U[:,1][index_5].argsort()[::-1]\n",
    "        U_recommend = np.array(index_5)[top_N_idx]\n",
    "        top_N_idx=U[:,1][index_4].argsort()[::-1]\n",
    "        U_recommend = list(U_recommend)+list(np.array(index_4)[top_N_idx])\n",
    "        top_N_idx=U[:,1][index_3].argsort()[::-1][0:(N-len(index_5)-len(index_4))]\n",
    "        U_recommend = list(U_recommend)+list(np.array(index_3)[top_N_idx])\n",
    "    if (N<=(len(index_5)+len(index_4)+len(index_3)+len(index_2)) and N>(len(index_5)+len(index_4)+len(index_3))):\n",
    "        top_N_idx=U[:,1][index_5].argsort()[::-1]\n",
    "        U_recommend = np.array(index_5)[top_N_idx]\n",
    "        top_N_idx=U[:,1][index_4].argsort()[::-1]\n",
    "        U_recommend = list(U_recommend)+list(np.array(index_4)[top_N_idx])\n",
    "        top_N_idx=U[:,1][index_3].argsort()[::-1]\n",
    "        U_recommend = list(U_recommend)+list(np.array(index_3)[top_N_idx])\n",
    "        top_N_idx=U[:,1][index_2].argsort()[::-1][0:(N-len(index_5)-len(index_4)-len(index_3))]\n",
    "        U_recommend = list(U_recommend)+list(np.array(index_2)[top_N_idx])\n",
    "    return U_recommend"
   ]
  },
  {
   "cell_type": "code",
   "execution_count": 246,
   "metadata": {},
   "outputs": [],
   "source": [
    "def cal_4_index(U, T, N):\n",
    "    U_MAE = metrics.mean_absolute_error(T, U[:,0])\n",
    "    recommend_N = cal_recommend(U, N) \n",
    "    U_prec = sum(T[recommend_N]>=4)/N\n",
    "    U_recall = sum(T[recommend_N]>=4)/sum(T>=4)\n",
    "    trans_index = [sum(T>=2)+1,sum(T>=3)+1,sum(T>=4)+1,sum(T>=5)+1,1]\n",
    "    true_rank = [trans_index[T[i]-1] for i in recommend_N]\n",
    "    U_DCG = getNDCG(true_rank, list(range(1, N+1)))\n",
    "    return [U_MAE, U_prec, U_recall, U_DCG]"
   ]
  },
  {
   "cell_type": "code",
   "execution_count": 366,
   "metadata": {},
   "outputs": [
    {
     "name": "stdout",
     "output_type": "stream",
     "text": [
      "[3, 9]\n",
      "[16, 10]\n",
      "[4, 10]\n",
      "[0, 41]\n",
      "[0, 7]\n",
      "[0, 24]\n",
      "[25, 19]\n",
      "[50, 40]\n",
      "[8, 16]\n",
      "[2, 7]\n",
      "[7, 2]\n",
      "[2, 1]\n",
      "[25, 15]\n",
      "[12, 17]\n",
      "[17, 20]\n",
      "[1, 14]\n",
      "[2, 14]\n",
      "[2, 14]\n",
      "[5, 3]\n",
      "[6, 5]\n",
      "[5, 3]\n",
      "[121, 97]\n",
      "[121, 33]\n",
      "[70, 13]\n",
      "[0, 7]\n",
      "[20, 16]\n",
      "[0, 20]\n",
      "[0, 8]\n",
      "[7, 10]\n",
      "[7, 1]\n",
      "[5, 7]\n",
      "[2, 5]\n",
      "[0, 2]\n",
      "[123, 49]\n",
      "[123, 34]\n",
      "[1, 72]\n",
      "[18, 10]\n",
      "[12, 18]\n",
      "[0, 5]\n",
      "[7, 6]\n",
      "[5, 7]\n",
      "[7, 3]\n",
      "[100, 70]\n",
      "[50, 17]\n",
      "[32, 98]\n",
      "[9, 8]\n",
      "[1, 3]\n",
      "[3, 2]\n",
      "[10, 7]\n",
      "[0, 12]\n",
      "[0, 6]\n",
      "[14, 13]\n",
      "[13, 11]\n",
      "[11, 7]\n",
      "[5, 3]\n",
      "[5, 0]\n",
      "[3, 2]\n",
      "[0, 5]\n",
      "[9, 1]\n",
      "[9, 5]\n",
      "[89, 69]\n",
      "[89, 75]\n",
      "[9, 0]\n",
      "[19, 18]\n",
      "[12, 3]\n",
      "[4, 19]\n",
      "[12, 24]\n",
      "[16, 18]\n",
      "[5, 9]\n",
      "[11, 10]\n",
      "[10, 9]\n",
      "[3, 10]\n",
      "[12, 11]\n",
      "[3, 0]\n",
      "[3, 0]\n",
      "[0, 5]\n",
      "[4, 13]\n",
      "[4, 0]\n",
      "[18, 3]\n",
      "[5, 4]\n",
      "[5, 6]\n",
      "[5, 3]\n",
      "[1, 5]\n",
      "[1, 3]\n",
      "[10, 8]\n",
      "[0, 4]\n",
      "[8, 10]\n",
      "[9, 2]\n",
      "[1, 12]\n",
      "[5, 1]\n",
      "[24, 21]\n",
      "[46, 4]\n",
      "[24, 40]\n",
      "[13, 12]\n",
      "[13, 12]\n",
      "[7, 6]\n",
      "[9, 5]\n",
      "[6, 5]\n",
      "[5, 9]\n",
      "[4, 1]\n",
      "[3, 5]\n",
      "[3, 1]\n",
      "[8, 5]\n",
      "[1, 8]\n",
      "[8, 0]\n",
      "[90, 55]\n",
      "[90, 71]\n",
      "[55, 83]\n",
      "[0, 1]\n",
      "[0, 1]\n",
      "[0, 1]\n",
      "[2, 7]\n",
      "[4, 11]\n",
      "[11, 4]\n",
      "[54, 30]\n",
      "[54, 30]\n",
      "[58, 82]\n",
      "[20, 9]\n",
      "[2, 17]\n",
      "[17, 19]\n",
      "[33, 18]\n",
      "[0, 3]\n",
      "[3, 10]\n",
      "[75, 44]\n",
      "[75, 30]\n",
      "[16, 7]\n",
      "[1, 4]\n",
      "[7, 2]\n",
      "[7, 1]\n",
      "[16, 5]\n",
      "[3, 5]\n",
      "[15, 5]\n",
      "[2, 0]\n",
      "[0, 3]\n",
      "[0, 3]\n",
      "[92, 56]\n",
      "[92, 73]\n",
      "[11, 6]\n",
      "[21, 12]\n",
      "[18, 1]\n",
      "[25, 34]\n",
      "[8, 7]\n",
      "[2, 3]\n",
      "[3, 1]\n",
      "[7, 4]\n",
      "[0, 8]\n",
      "[0, 8]\n",
      "[0, 26]\n",
      "[29, 35]\n",
      "[8, 35]\n"
     ]
    },
    {
     "ename": "KeyboardInterrupt",
     "evalue": "",
     "output_type": "error",
     "traceback": [
      "\u001b[1;31m---------------------------------------------------------------------------\u001b[0m",
      "\u001b[1;31mKeyboardInterrupt\u001b[0m                         Traceback (most recent call last)",
      "\u001b[1;32m<ipython-input-366-a928cedfc7f5>\u001b[0m in \u001b[0;36m<module>\u001b[1;34m\u001b[0m\n\u001b[0;32m     21\u001b[0m         \u001b[1;32mif\u001b[0m \u001b[1;33m(\u001b[0m\u001b[0msub_true_label\u001b[0m\u001b[1;33m==\u001b[0m\u001b[1;36m0\u001b[0m\u001b[1;33m)\u001b[0m\u001b[1;33m:\u001b[0m\u001b[1;33m\u001b[0m\u001b[0m\n\u001b[0;32m     22\u001b[0m             \u001b[1;32mcontinue\u001b[0m\u001b[1;33m\u001b[0m\u001b[0m\n\u001b[1;32m---> 23\u001b[1;33m         \u001b[0mpred_label_U\u001b[0m\u001b[1;33m,\u001b[0m \u001b[0m_\u001b[0m \u001b[1;33m=\u001b[0m \u001b[0mNBC_UBCF\u001b[0m\u001b[1;33m(\u001b[0m\u001b[0mcondition\u001b[0m\u001b[1;33m,\u001b[0m \u001b[0mobserve\u001b[0m\u001b[1;33m)\u001b[0m\u001b[1;33m\u001b[0m\u001b[0m\n\u001b[0m\u001b[0;32m     24\u001b[0m         \u001b[0mpred_label_I\u001b[0m\u001b[1;33m,\u001b[0m \u001b[0m_\u001b[0m \u001b[1;33m=\u001b[0m \u001b[0mNBC_IBCF\u001b[0m\u001b[1;33m(\u001b[0m\u001b[0mobserve\u001b[0m\u001b[1;33m,\u001b[0m \u001b[0mcondition\u001b[0m\u001b[1;33m)\u001b[0m\u001b[1;33m\u001b[0m\u001b[0m\n\u001b[0;32m     25\u001b[0m         \u001b[0mpred_label_H\u001b[0m\u001b[1;33m,\u001b[0m \u001b[0m_\u001b[0m \u001b[1;33m=\u001b[0m \u001b[0mNBC_HBCF\u001b[0m\u001b[1;33m(\u001b[0m\u001b[0mcondition\u001b[0m\u001b[1;33m,\u001b[0m \u001b[0mobserve\u001b[0m\u001b[1;33m)\u001b[0m\u001b[1;33m\u001b[0m\u001b[0m\n",
      "\u001b[1;32m<ipython-input-361-90b96da3ad0c>\u001b[0m in \u001b[0;36mNBC_UBCF\u001b[1;34m(condition, observe)\u001b[0m\n\u001b[0;32m     57\u001b[0m         \u001b[0mcondp5\u001b[0m\u001b[1;33m=\u001b[0m\u001b[1;33m(\u001b[0m\u001b[0mnum\u001b[0m\u001b[1;33m+\u001b[0m\u001b[1;36m0.01\u001b[0m\u001b[1;33m)\u001b[0m\u001b[1;33m/\u001b[0m\u001b[1;33m(\u001b[0m\u001b[0mlen\u001b[0m\u001b[1;33m(\u001b[0m\u001b[0mindex5\u001b[0m\u001b[1;33m)\u001b[0m\u001b[1;33m-\u001b[0m\u001b[0mzero_num\u001b[0m\u001b[1;33m+\u001b[0m\u001b[1;36m0.05\u001b[0m\u001b[1;33m)\u001b[0m\u001b[1;33m\u001b[0m\u001b[0m\n\u001b[0;32m     58\u001b[0m         \u001b[1;32mreturn\u001b[0m \u001b[1;33m[\u001b[0m\u001b[0mcondp1\u001b[0m\u001b[1;33m,\u001b[0m\u001b[0mcondp2\u001b[0m\u001b[1;33m,\u001b[0m\u001b[0mcondp3\u001b[0m\u001b[1;33m,\u001b[0m\u001b[0mcondp4\u001b[0m\u001b[1;33m,\u001b[0m\u001b[0mcondp5\u001b[0m\u001b[1;33m]\u001b[0m\u001b[1;33m\u001b[0m\u001b[0m\n\u001b[1;32m---> 59\u001b[1;33m     \u001b[0mcondp_all\u001b[0m \u001b[1;33m=\u001b[0m \u001b[0mnp\u001b[0m\u001b[1;33m.\u001b[0m\u001b[0marray\u001b[0m\u001b[1;33m(\u001b[0m\u001b[1;33m[\u001b[0m\u001b[0mcal_condp\u001b[0m\u001b[1;33m(\u001b[0m\u001b[0mtrain_df\u001b[0m\u001b[1;33m[\u001b[0m\u001b[0mi\u001b[0m\u001b[1;33m]\u001b[0m\u001b[1;33m,\u001b[0m\u001b[0mobserve\u001b[0m\u001b[1;33m[\u001b[0m\u001b[0mi\u001b[0m\u001b[1;33m]\u001b[0m\u001b[1;33m)\u001b[0m \u001b[1;32mfor\u001b[0m \u001b[0mi\u001b[0m \u001b[1;32min\u001b[0m \u001b[0mrange\u001b[0m\u001b[1;33m(\u001b[0m\u001b[0mlen\u001b[0m\u001b[1;33m(\u001b[0m\u001b[0mobserve\u001b[0m\u001b[1;33m)\u001b[0m\u001b[1;33m)\u001b[0m\u001b[1;33m]\u001b[0m\u001b[1;33m)\u001b[0m\u001b[1;33m\u001b[0m\u001b[0m\n\u001b[0m\u001b[0;32m     60\u001b[0m     \u001b[0mcondp1\u001b[0m \u001b[1;33m=\u001b[0m \u001b[0msum\u001b[0m\u001b[1;33m(\u001b[0m\u001b[1;33m[\u001b[0m\u001b[0mmath\u001b[0m\u001b[1;33m.\u001b[0m\u001b[0mlog\u001b[0m\u001b[1;33m(\u001b[0m\u001b[0mi\u001b[0m\u001b[1;33m,\u001b[0m \u001b[1;36m2\u001b[0m\u001b[1;33m)\u001b[0m \u001b[1;32mfor\u001b[0m \u001b[0mi\u001b[0m \u001b[1;32min\u001b[0m \u001b[0mcondp_all\u001b[0m\u001b[1;33m[\u001b[0m\u001b[1;33m:\u001b[0m\u001b[1;33m,\u001b[0m\u001b[1;36m0\u001b[0m\u001b[1;33m]\u001b[0m\u001b[1;33m]\u001b[0m\u001b[1;33m)\u001b[0m\u001b[1;33m+\u001b[0m\u001b[0mmath\u001b[0m\u001b[1;33m.\u001b[0m\u001b[0mlog\u001b[0m\u001b[1;33m(\u001b[0m\u001b[1;33m(\u001b[0m\u001b[0mlen\u001b[0m\u001b[1;33m(\u001b[0m\u001b[0mindex1\u001b[0m\u001b[1;33m)\u001b[0m\u001b[1;33m+\u001b[0m\u001b[1;36m0.01\u001b[0m\u001b[1;33m)\u001b[0m\u001b[1;33m/\u001b[0m\u001b[1;33m(\u001b[0m\u001b[0mall_len\u001b[0m\u001b[1;33m+\u001b[0m\u001b[1;36m0.05\u001b[0m\u001b[1;33m)\u001b[0m\u001b[1;33m,\u001b[0m \u001b[1;36m2\u001b[0m\u001b[1;33m)\u001b[0m\u001b[1;33m\u001b[0m\u001b[0m\n\u001b[0;32m     61\u001b[0m     \u001b[0mcondp2\u001b[0m \u001b[1;33m=\u001b[0m \u001b[0msum\u001b[0m\u001b[1;33m(\u001b[0m\u001b[1;33m[\u001b[0m\u001b[0mmath\u001b[0m\u001b[1;33m.\u001b[0m\u001b[0mlog\u001b[0m\u001b[1;33m(\u001b[0m\u001b[0mi\u001b[0m\u001b[1;33m,\u001b[0m \u001b[1;36m2\u001b[0m\u001b[1;33m)\u001b[0m \u001b[1;32mfor\u001b[0m \u001b[0mi\u001b[0m \u001b[1;32min\u001b[0m \u001b[0mcondp_all\u001b[0m\u001b[1;33m[\u001b[0m\u001b[1;33m:\u001b[0m\u001b[1;33m,\u001b[0m\u001b[1;36m1\u001b[0m\u001b[1;33m]\u001b[0m\u001b[1;33m]\u001b[0m\u001b[1;33m)\u001b[0m\u001b[1;33m+\u001b[0m\u001b[0mmath\u001b[0m\u001b[1;33m.\u001b[0m\u001b[0mlog\u001b[0m\u001b[1;33m(\u001b[0m\u001b[1;33m(\u001b[0m\u001b[0mlen\u001b[0m\u001b[1;33m(\u001b[0m\u001b[0mindex2\u001b[0m\u001b[1;33m)\u001b[0m\u001b[1;33m+\u001b[0m\u001b[1;36m0.01\u001b[0m\u001b[1;33m)\u001b[0m\u001b[1;33m/\u001b[0m\u001b[1;33m(\u001b[0m\u001b[0mall_len\u001b[0m\u001b[1;33m+\u001b[0m\u001b[1;36m0.05\u001b[0m\u001b[1;33m)\u001b[0m\u001b[1;33m,\u001b[0m \u001b[1;36m2\u001b[0m\u001b[1;33m)\u001b[0m\u001b[1;33m\u001b[0m\u001b[0m\n",
      "\u001b[1;32m<ipython-input-361-90b96da3ad0c>\u001b[0m in \u001b[0;36m<listcomp>\u001b[1;34m(.0)\u001b[0m\n\u001b[0;32m     57\u001b[0m         \u001b[0mcondp5\u001b[0m\u001b[1;33m=\u001b[0m\u001b[1;33m(\u001b[0m\u001b[0mnum\u001b[0m\u001b[1;33m+\u001b[0m\u001b[1;36m0.01\u001b[0m\u001b[1;33m)\u001b[0m\u001b[1;33m/\u001b[0m\u001b[1;33m(\u001b[0m\u001b[0mlen\u001b[0m\u001b[1;33m(\u001b[0m\u001b[0mindex5\u001b[0m\u001b[1;33m)\u001b[0m\u001b[1;33m-\u001b[0m\u001b[0mzero_num\u001b[0m\u001b[1;33m+\u001b[0m\u001b[1;36m0.05\u001b[0m\u001b[1;33m)\u001b[0m\u001b[1;33m\u001b[0m\u001b[0m\n\u001b[0;32m     58\u001b[0m         \u001b[1;32mreturn\u001b[0m \u001b[1;33m[\u001b[0m\u001b[0mcondp1\u001b[0m\u001b[1;33m,\u001b[0m\u001b[0mcondp2\u001b[0m\u001b[1;33m,\u001b[0m\u001b[0mcondp3\u001b[0m\u001b[1;33m,\u001b[0m\u001b[0mcondp4\u001b[0m\u001b[1;33m,\u001b[0m\u001b[0mcondp5\u001b[0m\u001b[1;33m]\u001b[0m\u001b[1;33m\u001b[0m\u001b[0m\n\u001b[1;32m---> 59\u001b[1;33m     \u001b[0mcondp_all\u001b[0m \u001b[1;33m=\u001b[0m \u001b[0mnp\u001b[0m\u001b[1;33m.\u001b[0m\u001b[0marray\u001b[0m\u001b[1;33m(\u001b[0m\u001b[1;33m[\u001b[0m\u001b[0mcal_condp\u001b[0m\u001b[1;33m(\u001b[0m\u001b[0mtrain_df\u001b[0m\u001b[1;33m[\u001b[0m\u001b[0mi\u001b[0m\u001b[1;33m]\u001b[0m\u001b[1;33m,\u001b[0m\u001b[0mobserve\u001b[0m\u001b[1;33m[\u001b[0m\u001b[0mi\u001b[0m\u001b[1;33m]\u001b[0m\u001b[1;33m)\u001b[0m \u001b[1;32mfor\u001b[0m \u001b[0mi\u001b[0m \u001b[1;32min\u001b[0m \u001b[0mrange\u001b[0m\u001b[1;33m(\u001b[0m\u001b[0mlen\u001b[0m\u001b[1;33m(\u001b[0m\u001b[0mobserve\u001b[0m\u001b[1;33m)\u001b[0m\u001b[1;33m)\u001b[0m\u001b[1;33m]\u001b[0m\u001b[1;33m)\u001b[0m\u001b[1;33m\u001b[0m\u001b[0m\n\u001b[0m\u001b[0;32m     60\u001b[0m     \u001b[0mcondp1\u001b[0m \u001b[1;33m=\u001b[0m \u001b[0msum\u001b[0m\u001b[1;33m(\u001b[0m\u001b[1;33m[\u001b[0m\u001b[0mmath\u001b[0m\u001b[1;33m.\u001b[0m\u001b[0mlog\u001b[0m\u001b[1;33m(\u001b[0m\u001b[0mi\u001b[0m\u001b[1;33m,\u001b[0m \u001b[1;36m2\u001b[0m\u001b[1;33m)\u001b[0m \u001b[1;32mfor\u001b[0m \u001b[0mi\u001b[0m \u001b[1;32min\u001b[0m \u001b[0mcondp_all\u001b[0m\u001b[1;33m[\u001b[0m\u001b[1;33m:\u001b[0m\u001b[1;33m,\u001b[0m\u001b[1;36m0\u001b[0m\u001b[1;33m]\u001b[0m\u001b[1;33m]\u001b[0m\u001b[1;33m)\u001b[0m\u001b[1;33m+\u001b[0m\u001b[0mmath\u001b[0m\u001b[1;33m.\u001b[0m\u001b[0mlog\u001b[0m\u001b[1;33m(\u001b[0m\u001b[1;33m(\u001b[0m\u001b[0mlen\u001b[0m\u001b[1;33m(\u001b[0m\u001b[0mindex1\u001b[0m\u001b[1;33m)\u001b[0m\u001b[1;33m+\u001b[0m\u001b[1;36m0.01\u001b[0m\u001b[1;33m)\u001b[0m\u001b[1;33m/\u001b[0m\u001b[1;33m(\u001b[0m\u001b[0mall_len\u001b[0m\u001b[1;33m+\u001b[0m\u001b[1;36m0.05\u001b[0m\u001b[1;33m)\u001b[0m\u001b[1;33m,\u001b[0m \u001b[1;36m2\u001b[0m\u001b[1;33m)\u001b[0m\u001b[1;33m\u001b[0m\u001b[0m\n\u001b[0;32m     61\u001b[0m     \u001b[0mcondp2\u001b[0m \u001b[1;33m=\u001b[0m \u001b[0msum\u001b[0m\u001b[1;33m(\u001b[0m\u001b[1;33m[\u001b[0m\u001b[0mmath\u001b[0m\u001b[1;33m.\u001b[0m\u001b[0mlog\u001b[0m\u001b[1;33m(\u001b[0m\u001b[0mi\u001b[0m\u001b[1;33m,\u001b[0m \u001b[1;36m2\u001b[0m\u001b[1;33m)\u001b[0m \u001b[1;32mfor\u001b[0m \u001b[0mi\u001b[0m \u001b[1;32min\u001b[0m \u001b[0mcondp_all\u001b[0m\u001b[1;33m[\u001b[0m\u001b[1;33m:\u001b[0m\u001b[1;33m,\u001b[0m\u001b[1;36m1\u001b[0m\u001b[1;33m]\u001b[0m\u001b[1;33m]\u001b[0m\u001b[1;33m)\u001b[0m\u001b[1;33m+\u001b[0m\u001b[0mmath\u001b[0m\u001b[1;33m.\u001b[0m\u001b[0mlog\u001b[0m\u001b[1;33m(\u001b[0m\u001b[1;33m(\u001b[0m\u001b[0mlen\u001b[0m\u001b[1;33m(\u001b[0m\u001b[0mindex2\u001b[0m\u001b[1;33m)\u001b[0m\u001b[1;33m+\u001b[0m\u001b[1;36m0.01\u001b[0m\u001b[1;33m)\u001b[0m\u001b[1;33m/\u001b[0m\u001b[1;33m(\u001b[0m\u001b[0mall_len\u001b[0m\u001b[1;33m+\u001b[0m\u001b[1;36m0.05\u001b[0m\u001b[1;33m)\u001b[0m\u001b[1;33m,\u001b[0m \u001b[1;36m2\u001b[0m\u001b[1;33m)\u001b[0m\u001b[1;33m\u001b[0m\u001b[0m\n",
      "\u001b[1;32m<ipython-input-361-90b96da3ad0c>\u001b[0m in \u001b[0;36mcal_condp\u001b[1;34m(patial_feature, ob)\u001b[0m\n\u001b[0;32m     15\u001b[0m         \u001b[0mpatial_feature3\u001b[0m\u001b[1;33m=\u001b[0m \u001b[0mpatial_feature\u001b[0m\u001b[1;33m[\u001b[0m\u001b[0mindex3\u001b[0m\u001b[1;33m]\u001b[0m\u001b[1;33m\u001b[0m\u001b[0m\n\u001b[0;32m     16\u001b[0m         \u001b[0mpatial_feature4\u001b[0m\u001b[1;33m=\u001b[0m \u001b[0mpatial_feature\u001b[0m\u001b[1;33m[\u001b[0m\u001b[0mindex4\u001b[0m\u001b[1;33m]\u001b[0m\u001b[1;33m\u001b[0m\u001b[0m\n\u001b[1;32m---> 17\u001b[1;33m         \u001b[0mpatial_feature5\u001b[0m\u001b[1;33m=\u001b[0m \u001b[0mpatial_feature\u001b[0m\u001b[1;33m[\u001b[0m\u001b[0mindex5\u001b[0m\u001b[1;33m]\u001b[0m\u001b[1;33m\u001b[0m\u001b[0m\n\u001b[0m\u001b[0;32m     18\u001b[0m         \u001b[0mnum\u001b[0m\u001b[1;33m=\u001b[0m\u001b[1;36m0\u001b[0m\u001b[1;33m\u001b[0m\u001b[0m\n\u001b[0;32m     19\u001b[0m         \u001b[0mzero_num\u001b[0m\u001b[1;33m=\u001b[0m\u001b[1;36m0\u001b[0m\u001b[1;33m\u001b[0m\u001b[0m\n",
      "\u001b[1;31mKeyboardInterrupt\u001b[0m: "
     ]
    }
   ],
   "source": [
    "U_pred_label = []\n",
    "I_pred_label = []\n",
    "H_pred_label = []\n",
    "true_label = []\n",
    "U_index_all = []\n",
    "I_index_all = []\n",
    "H_index_all = []\n",
    "num = 2\n",
    "for i in range(0,1200):\n",
    "    sub_U_pred = []\n",
    "    sub_I_pred = []\n",
    "    sub_H_pred = []\n",
    "    sub_true = []\n",
    "    condition = zuoshangjiao.loc[[i]]\n",
    "    condition = condition.values\n",
    "    condition = condition[0][1:]\n",
    "    for j in test_items:\n",
    "        observe = youxiajiao[j]\n",
    "        observe = observe.values\n",
    "        sub_true_label = youshangjiao[j].loc[[i]].values[0]\n",
    "        if (sub_true_label==0):\n",
    "            continue\n",
    "        pred_label_U, _ = NBC_UBCF(condition, observe)\n",
    "        pred_label_I, _ = NBC_IBCF(observe, condition)\n",
    "        pred_label_H, _ = NBC_HBCF(condition, observe)\n",
    "        sub_U_pred.append(pred_label_U)\n",
    "        sub_I_pred.append(pred_label_I)\n",
    "        sub_H_pred.append(pred_label_H)\n",
    "        sub_true.append(sub_true_label)\n",
    "        U_pred_label.append(pred_label_U[0])\n",
    "        I_pred_label.append(pred_label_I[0])\n",
    "        H_pred_label.append(pred_label_H[0])\n",
    "        true_label.append(sub_true_label)\n",
    "    U_index_all.append(cal_4_index(np.array(sub_U_pred), np.array(sub_true), num))\n",
    "    I_index_all.append(cal_4_index(np.array(sub_I_pred), np.array(sub_true), num))\n",
    "    H_index_all.append(cal_4_index(np.array(sub_H_pred), np.array(sub_true), num))"
   ]
  },
  {
   "cell_type": "code",
   "execution_count": null,
   "metadata": {},
   "outputs": [],
   "source": [
    "U_pred_label = []\n",
    "I_pred_label = []\n",
    "H_pred_label = []\n",
    "true_label = []\n",
    "U_index_all = []\n",
    "I_index_all = []\n",
    "H_index_all = []\n",
    "num = 8\n",
    "for j in test_items[0:106]:\n",
    "    observe = youxiajiao[j]\n",
    "    observe = observe.values\n",
    "    sub_U_pred = []\n",
    "    sub_I_pred = []\n",
    "    sub_H_pred = []\n",
    "    sub_true = []\n",
    "    for i in range(0,1200):\n",
    "        condition = zuoshangjiao.loc[[i]]\n",
    "        condition = condition.values\n",
    "        condition = condition[0][1:]\n",
    "        sub_true_label = youshangjiao[j].loc[[i]].values[0]\n",
    "        if (sub_true_label==0):\n",
    "            continue\n",
    "        \n",
    "        pred_label_U, _ = NBC_UBCF(condition, observe)\n",
    "        pred_label_I, _ = NBC_IBCF(observe, condition)\n",
    "        pred_label_H, _ = NBC_HBCF(condition, observe)\n",
    "        sub_U_pred.append(pred_label_U)\n",
    "        sub_I_pred.append(pred_label_I)\n",
    "        sub_H_pred.append(pred_label_H)\n",
    "        sub_true.append(sub_true_label)\n",
    "        U_pred_label.append(pred_label_U)\n",
    "        I_pred_label.append(pred_label_I)\n",
    "        H_pred_label.append(pred_label_H)\n",
    "        true_label.append(sub_true_label)\n",
    "    if (len(sub_true)==0):\n",
    "        continue\n",
    "    U_index_all.append(metrics.mean_absolute_error(sub_true, np.array(sub_U_pred)[:,0]))\n",
    "    I_index_all.append(metrics.mean_absolute_error(sub_true, np.array(sub_I_pred)[:,0]))\n",
    "    H_index_all.append(metrics.mean_absolute_error(sub_true, np.array(sub_H_pred)[:,0]))"
   ]
  },
  {
   "cell_type": "code",
   "execution_count": 391,
   "metadata": {},
   "outputs": [
    {
     "name": "stdout",
     "output_type": "stream",
     "text": [
      "0.8793157015758593 0.9738798415739982 0.8107631383617181\n"
     ]
    }
   ],
   "source": [
    "print(sum(U_index_all)/len(U_index_all), sum(I_index_all)/len(I_index_all), sum(H_index_all)/len(H_index_all))"
   ]
  },
  {
   "cell_type": "code",
   "execution_count": 350,
   "metadata": {},
   "outputs": [
    {
     "name": "stdout",
     "output_type": "stream",
     "text": [
      "1.8235294117647058 0.8823529411764706 0.5294117647058824\n",
      "0.8 0.9 0.9\n",
      "0.6153846153846154 0.6923076923076923 0.6923076923076923\n",
      "0.8357803225517273 0.8899540901184082 0.9266359806060791\n"
     ]
    }
   ],
   "source": [
    "U_index_all = np.array(U_index_all)\n",
    "I_index_all = np.array(I_index_all)\n",
    "H_index_all = np.array(H_index_all)\n",
    "U_MAE = sum(U_index_all[:, 0])/len(U_index_all[:, 0])\n",
    "U_prec = sum(U_index_all[:, 1])/len(U_index_all[:, 1])\n",
    "U_recall = sum(U_index_all[:, 2])/len(U_index_all[:, 2])\n",
    "U_DCG = sum(U_index_all[:, 3])/len(U_index_all[:, 3])\n",
    "I_MAE = sum(I_index_all[:, 0])/len(I_index_all[:, 0])\n",
    "I_prec = sum(I_index_all[:, 1])/len(I_index_all[:, 1])\n",
    "I_recall = sum(I_index_all[:, 2])/len(I_index_all[:, 2])\n",
    "I_DCG = sum(I_index_all[:, 3])/len(I_index_all[:, 3])\n",
    "H_MAE = sum(H_index_all[:, 0])/len(H_index_all[:, 0])\n",
    "H_prec = sum(H_index_all[:, 1])/len(H_index_all[:, 1])\n",
    "H_recall = sum(H_index_all[:, 2])/len(H_index_all[:, 2])\n",
    "H_DCG = sum(H_index_all[:, 3])/len(H_index_all[:, 3])\n",
    "print(U_MAE, I_MAE, H_MAE)\n",
    "print(U_prec, I_prec, H_prec)\n",
    "print(U_recall, I_recall, H_recall)\n",
    "print(U_DCG, I_DCG, H_DCG)"
   ]
  },
  {
   "cell_type": "code",
   "execution_count": 335,
   "metadata": {},
   "outputs": [
    {
     "name": "stdout",
     "output_type": "stream",
     "text": [
      "[2, 2, 2, 4, 2, 2, 2, 2, 2, 2, 2, 2, 2, 2, 2, 2, 2] [4, 2, 4, 4, 4, 5, 4, 4, 4, 5, 5, 3, 3, 4, 4, 3, 5]\n"
     ]
    }
   ],
   "source": [
    "print(U_pred_label, true_label)"
   ]
  },
  {
   "cell_type": "code",
   "execution_count": 328,
   "metadata": {},
   "outputs": [
    {
     "name": "stdout",
     "output_type": "stream",
     "text": [
      "0.23891439033801107 0.3732910192231795 0.36561327422070944\n"
     ]
    }
   ],
   "source": [
    "U_recall_data = []\n",
    "I_recall_data = []\n",
    "H_recall_data = []\n",
    "for i in U_index_all[:, 2]:\n",
    "    if np.isnan(i):\n",
    "        continue\n",
    "    U_recall_data.append(i)\n",
    "for i in I_index_all[:, 2]:\n",
    "    if np.isnan(i):\n",
    "        continue\n",
    "    I_recall_data.append(i)\n",
    "for i in H_index_all[:, 2]:\n",
    "    if np.isnan(i):\n",
    "        continue\n",
    "    H_recall_data.append(i)\n",
    "print(sum(U_recall_data)/len(U_recall_data), sum(I_recall_data)/len(I_recall_data), sum(H_recall_data)/len(H_recall_data))"
   ]
  },
  {
   "cell_type": "code",
   "execution_count": 389,
   "metadata": {},
   "outputs": [],
   "source": [
    "label_data = [U_pred_label, I_pred_label, H_pred_label, true_label]\n",
    "np.save('label_all_1', label_data)"
   ]
  },
  {
   "cell_type": "code",
   "execution_count": 329,
   "metadata": {},
   "outputs": [],
   "source": [
    "save_data=[[U_MAE,I_MAE, H_MAE],[U_prec, I_prec, H_prec],[sum(U_recall_data)/len(U_recall_data), sum(I_recall_data)/len(I_recall_data), sum(H_recall_data)/len(H_recall_data)],[U_DCG, I_DCG, H_DCG]]\n",
    "np.save('data0_200',save_data)"
   ]
  },
  {
   "cell_type": "code",
   "execution_count": 277,
   "metadata": {},
   "outputs": [
    {
     "name": "stdout",
     "output_type": "stream",
     "text": [
      "[[1.39618941 0.7965913  0.85498506]\n",
      " [0.61666667 0.77333333 0.81833333]\n",
      " [0.14484015 0.2442256  0.24649009]\n",
      " [0.40913401 0.52586597 0.59703917]]\n"
     ]
    }
   ],
   "source": [
    "data1=np.load('data0_200.npy')\n",
    "print(data1)"
   ]
  },
  {
   "cell_type": "code",
   "execution_count": 258,
   "metadata": {},
   "outputs": [
    {
     "name": "stdout",
     "output_type": "stream",
     "text": [
      "0.11816601789868081 0.19066102507267302 0.18872763127699385\n"
     ]
    }
   ],
   "source": [
    "U_recall_data = []\n",
    "I_recall_data = []\n",
    "H_recall_data = []\n",
    "for i in U_index_all[:, 2]:\n",
    "    if np.isnan(i):\n",
    "        continue\n",
    "    U_recall_data.append(i)\n",
    "for i in I_index_all[:, 2]:\n",
    "    if np.isnan(i):\n",
    "        continue\n",
    "    I_recall_data.append(i)\n",
    "for i in H_index_all[:, 2]:\n",
    "    if np.isnan(i):\n",
    "        continue\n",
    "    H_recall_data.append(i)\n",
    "print(sum(U_recall_data)/len(U_recall_data), sum(I_recall_data)/len(I_recall_data), sum(H_recall_data)/len(H_recall_data))"
   ]
  },
  {
   "cell_type": "code",
   "execution_count": 390,
   "metadata": {},
   "outputs": [
    {
     "ename": "ValueError",
     "evalue": "y_true and y_pred have different number of output (1!=3)",
     "output_type": "error",
     "traceback": [
      "\u001b[1;31m---------------------------------------------------------------------------\u001b[0m",
      "\u001b[1;31mValueError\u001b[0m                                Traceback (most recent call last)",
      "\u001b[1;32m<ipython-input-390-fd04e907d2e6>\u001b[0m in \u001b[0;36m<module>\u001b[1;34m\u001b[0m\n\u001b[1;32m----> 1\u001b[1;33m \u001b[0mprint\u001b[0m\u001b[1;33m(\u001b[0m\u001b[0mmetrics\u001b[0m\u001b[1;33m.\u001b[0m\u001b[0mmean_absolute_error\u001b[0m\u001b[1;33m(\u001b[0m\u001b[0mtrue_label\u001b[0m\u001b[1;33m,\u001b[0m \u001b[0mU_pred_label\u001b[0m\u001b[1;33m)\u001b[0m\u001b[1;33m,\u001b[0m\u001b[0mmetrics\u001b[0m\u001b[1;33m.\u001b[0m\u001b[0mmean_absolute_error\u001b[0m\u001b[1;33m(\u001b[0m\u001b[0mtrue_label\u001b[0m\u001b[1;33m,\u001b[0m \u001b[0mI_pred_label\u001b[0m\u001b[1;33m)\u001b[0m\u001b[1;33m,\u001b[0m\u001b[0mmetrics\u001b[0m\u001b[1;33m.\u001b[0m\u001b[0mmean_absolute_error\u001b[0m\u001b[1;33m(\u001b[0m\u001b[0mtrue_label\u001b[0m\u001b[1;33m,\u001b[0m \u001b[0mH_pred_label\u001b[0m\u001b[1;33m)\u001b[0m\u001b[1;33m)\u001b[0m\u001b[1;33m\u001b[0m\u001b[0m\n\u001b[0m",
      "\u001b[1;32mi:\\机器人小组专用\\深度学习处理图像\\python\\lib\\site-packages\\sklearn\\metrics\\_regression.py\u001b[0m in \u001b[0;36mmean_absolute_error\u001b[1;34m(y_true, y_pred, sample_weight, multioutput)\u001b[0m\n\u001b[0;32m    176\u001b[0m     \"\"\"\n\u001b[0;32m    177\u001b[0m     y_type, y_true, y_pred, multioutput = _check_reg_targets(\n\u001b[1;32m--> 178\u001b[1;33m         y_true, y_pred, multioutput)\n\u001b[0m\u001b[0;32m    179\u001b[0m     \u001b[0mcheck_consistent_length\u001b[0m\u001b[1;33m(\u001b[0m\u001b[0my_true\u001b[0m\u001b[1;33m,\u001b[0m \u001b[0my_pred\u001b[0m\u001b[1;33m,\u001b[0m \u001b[0msample_weight\u001b[0m\u001b[1;33m)\u001b[0m\u001b[1;33m\u001b[0m\u001b[0m\n\u001b[0;32m    180\u001b[0m     output_errors = np.average(np.abs(y_pred - y_true),\n",
      "\u001b[1;32mi:\\机器人小组专用\\深度学习处理图像\\python\\lib\\site-packages\\sklearn\\metrics\\_regression.py\u001b[0m in \u001b[0;36m_check_reg_targets\u001b[1;34m(y_true, y_pred, multioutput, dtype)\u001b[0m\n\u001b[0;32m     94\u001b[0m     \u001b[1;32mif\u001b[0m \u001b[0my_true\u001b[0m\u001b[1;33m.\u001b[0m\u001b[0mshape\u001b[0m\u001b[1;33m[\u001b[0m\u001b[1;36m1\u001b[0m\u001b[1;33m]\u001b[0m \u001b[1;33m!=\u001b[0m \u001b[0my_pred\u001b[0m\u001b[1;33m.\u001b[0m\u001b[0mshape\u001b[0m\u001b[1;33m[\u001b[0m\u001b[1;36m1\u001b[0m\u001b[1;33m]\u001b[0m\u001b[1;33m:\u001b[0m\u001b[1;33m\u001b[0m\u001b[0m\n\u001b[0;32m     95\u001b[0m         raise ValueError(\"y_true and y_pred have different number of output \"\n\u001b[1;32m---> 96\u001b[1;33m                          \"({0}!={1})\".format(y_true.shape[1], y_pred.shape[1]))\n\u001b[0m\u001b[0;32m     97\u001b[0m \u001b[1;33m\u001b[0m\u001b[0m\n\u001b[0;32m     98\u001b[0m     \u001b[0mn_outputs\u001b[0m \u001b[1;33m=\u001b[0m \u001b[0my_true\u001b[0m\u001b[1;33m.\u001b[0m\u001b[0mshape\u001b[0m\u001b[1;33m[\u001b[0m\u001b[1;36m1\u001b[0m\u001b[1;33m]\u001b[0m\u001b[1;33m\u001b[0m\u001b[0m\n",
      "\u001b[1;31mValueError\u001b[0m: y_true and y_pred have different number of output (1!=3)"
     ]
    }
   ],
   "source": [
    "print(metrics.mean_absolute_error(true_label, U_pred_label),metrics.mean_absolute_error(true_label, I_pred_label),metrics.mean_absolute_error(true_label, H_pred_label))"
   ]
  },
  {
   "cell_type": "code",
   "execution_count": 255,
   "metadata": {},
   "outputs": [
    {
     "name": "stdout",
     "output_type": "stream",
     "text": [
      "1.3772022847217817 0.7778516579024525 0.8248047818231384\n",
      "0.645 0.775 0.88\n",
      "0.1107507821237594 0.17404893712266362 0.18901160967358951\n",
      "0.4154741007089615 0.49707968413829806 0.6054740995168686\n"
     ]
    }
   ],
   "source": [
    "U_index_all = np.array(U_index_all)\n",
    "I_index_all = np.array(I_index_all)\n",
    "H_index_all = np.array(H_index_all)\n",
    "U_MAE = sum(U_index_all[:, 0])/len(U_index_all[:, 0])\n",
    "U_prec = sum(U_index_all[:, 1])/len(U_index_all[:, 1])\n",
    "U_recall = sum(U_index_all[:, 2])/len(U_index_all[:, 2])\n",
    "U_DCG = sum(U_index_all[:, 3])/len(U_index_all[:, 3])\n",
    "I_MAE = sum(I_index_all[:, 0])/len(I_index_all[:, 0])\n",
    "I_prec = sum(I_index_all[:, 1])/len(I_index_all[:, 1])\n",
    "I_recall = sum(I_index_all[:, 2])/len(I_index_all[:, 2])\n",
    "I_DCG = sum(I_index_all[:, 3])/len(I_index_all[:, 3])\n",
    "H_MAE = sum(H_index_all[:, 0])/len(H_index_all[:, 0])\n",
    "H_prec = sum(H_index_all[:, 1])/len(H_index_all[:, 1])\n",
    "H_recall = sum(H_index_all[:, 2])/len(H_index_all[:, 2])\n",
    "H_DCG = sum(H_index_all[:, 3])/len(H_index_all[:, 3])\n",
    "print(U_MAE, I_MAE, H_MAE)\n",
    "print(U_prec, I_prec, H_prec)\n",
    "print(U_recall, I_recall, H_recall)\n",
    "print(U_DCG, I_DCG, H_DCG)"
   ]
  },
  {
   "cell_type": "code",
   "execution_count": 177,
   "metadata": {},
   "outputs": [],
   "source": [
    "def getDCG(scores):\n",
    "    return np.sum(\n",
    "        np.divide(np.power(2, scores) - 1, np.log(np.arange(scores.shape[0], dtype=np.float32) + 2)),\n",
    "        dtype=np.float32)\n",
    "def getNDCG(rank_list, pos_items):\n",
    "    relevance = np.ones_like(pos_items)\n",
    "    it2rel = {it: r for it, r in zip(pos_items, relevance)}\n",
    "    rank_scores = np.asarray([it2rel.get(it, 0.0) for it in rank_list], dtype=np.float32)\n",
    "\n",
    "    idcg = getDCG(relevance)\n",
    "\n",
    "    dcg = getDCG(rank_scores)\n",
    "\n",
    "    if dcg == 0.0:\n",
    "        return 0.0\n",
    "    ndcg = dcg / idcg\n",
    "    return ndcg"
   ]
  },
  {
   "cell_type": "code",
   "execution_count": 330,
   "metadata": {},
   "outputs": [],
   "source": [
    "data1=np.load('data0_200.npy')\n",
    "data2=np.load('data200_400.npy')\n",
    "data3=np.load('data400_600.npy')\n",
    "data4=np.load('data600_800.npy')\n",
    "data5=np.load('data800_1000.npy')\n",
    "data6=np.load('data1000_1200.npy')"
   ]
  },
  {
   "cell_type": "code",
   "execution_count": 331,
   "metadata": {},
   "outputs": [
    {
     "name": "stdout",
     "output_type": "stream",
     "text": [
      "1.3684655538722346\n",
      "0.7840446260049204\n",
      "0.8468699995307986\n",
      "0.49937499999999996\n",
      "0.5894791666666667\n",
      "0.6113541666666666\n",
      "0.2298595227541147\n",
      "0.338415882120408\n",
      "0.32338905724825845\n",
      "0.4255381465206543\n",
      "0.5462634810184438\n",
      "0.5692807285736005\n"
     ]
    }
   ],
   "source": [
    "data_all = np.array([data1,data2,data3,data4,data5,data6])\n",
    "print(sum(data_all[:,0][:,0])/6)\n",
    "print(sum(data_all[:,0][:,1])/6)\n",
    "print(sum(data_all[:,0][:,2])/6)\n",
    "print(sum(data_all[:,1][:,0])/6)\n",
    "print(sum(data_all[:,1][:,1])/6)\n",
    "print(sum(data_all[:,1][:,2])/6)\n",
    "print(sum(data_all[:,2][:,0])/6)\n",
    "print(sum(data_all[:,2][:,1])/6)\n",
    "print(sum(data_all[:,2][:,2])/6)\n",
    "print(sum(data_all[:,3][:,0])/6)\n",
    "print(sum(data_all[:,3][:,1])/6)\n",
    "print(sum(data_all[:,3][:,2])/6)"
   ]
  },
  {
   "cell_type": "code",
   "execution_count": null,
   "metadata": {},
   "outputs": [],
   "source": []
  }
 ],
 "metadata": {
  "kernelspec": {
   "display_name": "Python 3",
   "language": "python",
   "name": "python3"
  },
  "language_info": {
   "codemirror_mode": {
    "name": "ipython",
    "version": 3
   },
   "file_extension": ".py",
   "mimetype": "text/x-python",
   "name": "python",
   "nbconvert_exporter": "python",
   "pygments_lexer": "ipython3",
   "version": "3.6.5"
  }
 },
 "nbformat": 4,
 "nbformat_minor": 4
}
