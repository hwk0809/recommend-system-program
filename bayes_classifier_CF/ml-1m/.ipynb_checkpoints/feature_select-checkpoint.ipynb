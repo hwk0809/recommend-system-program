{
 "cells": [
  {
   "cell_type": "code",
   "execution_count": 1,
   "metadata": {},
   "outputs": [],
   "source": [
    "import numpy as np\n",
    "import pandas as pd\n",
    "import random\n",
    "import math"
   ]
  },
  {
   "cell_type": "code",
   "execution_count": 2,
   "metadata": {},
   "outputs": [],
   "source": [
    "raw_rating_data = pd.read_csv('test2.csv')\n",
    "all_users_id = list(set(list(raw_rating_data['userId'])))\n",
    "all_users_id.sort()\n",
    "last_user_id = max(all_users_id)\n",
    "user_movie_df = pd.read_csv('like_dislike_matrix.csv')\n",
    "all_movies_id = set(list(raw_rating_data['movieId']))\n",
    "trans = list(all_movies_id)\n",
    "trans.sort()"
   ]
  },
  {
   "cell_type": "code",
   "execution_count": 3,
   "metadata": {},
   "outputs": [],
   "source": [
    "def test_users_select(num, num2, num3):\n",
    "    test_users=[]                     # 显然num3要小于num2\n",
    "    test_users_movies=[]\n",
    "    test_users_movies_split=[]\n",
    "    index = random.sample(range(1,last_user_id+1),last_user_id)\n",
    "    k=0\n",
    "    for i in index:\n",
    "        sub_user_rating_num = len(list(raw_rating_data['userId'][raw_rating_data.userId==i]))\n",
    "        sub_user_rating_movie = list(raw_rating_data['movieId'][raw_rating_data.userId==i])\n",
    "        if sub_user_rating_num>=num2:\n",
    "            if k>=num:\n",
    "                break\n",
    "            k=k+1\n",
    "            split_index = random.sample(range(0,sub_user_rating_num),num2)\n",
    "            split_index = [split_index[:num3],split_index[num3:]]\n",
    "            test_users.append(i)\n",
    "            test_users_movies.append(sub_user_rating_movie)\n",
    "            test_users_movies_split.append(split_index)\n",
    "    return test_users, test_users_movies, test_users_movies_split"
   ]
  },
  {
   "cell_type": "code",
   "execution_count": 4,
   "metadata": {},
   "outputs": [],
   "source": [
    "test_users, test_users_movies, test_users_movies_split=test_users_select(20, 140, 100)"
   ]
  },
  {
   "cell_type": "code",
   "execution_count": 5,
   "metadata": {},
   "outputs": [],
   "source": [
    "def I(v):\n",
    "    v=list(v)\n",
    "    if (len(v)==0):\n",
    "        return 0\n",
    "    index1=[i for i,x in enumerate(v) if x==1]\n",
    "    index0=[i for i,x in enumerate(v) if x==0]\n",
    "    p1=len(index1)/len(v)\n",
    "    p0=len(index0)/len(v)\n",
    "    if p1==1 or p0==1:\n",
    "        return 0\n",
    "    return -p1*math.log(p1, 2)-p0*math.log(p0, 2)"
   ]
  },
  {
   "cell_type": "code",
   "execution_count": 6,
   "metadata": {},
   "outputs": [],
   "source": [
    "def pure_predict(userId, train_moiveId, target_item, num):\n",
    "    list_all = [i for i in range(0,2*userId-2)]+[i for i in range(2*userId,2*last_user_id)]\n",
    "    train_columns = [str(trans.index(i)+1) for i in train_movieId]\n",
    "    sub_df = user_movie_df[train_columns]\n",
    "    observe_df = user_movie_df[[str(trans.index(target_item)+1)]]\n",
    "    true_rating = observe_df.loc[[2*userId-2]]\n",
    "    true_rating = true_rating.values[0][0]\n",
    "    features_all = sub_df.loc[list_all]\n",
    "    userlike_df = sub_df.loc[[2*userId-2]]\n",
    "    userlike_data = userlike_df.values[0]\n",
    "    return (sum(userlike_data)/len(userlike_data)>0.5), true_rating"
   ]
  },
  {
   "cell_type": "code",
   "execution_count": 7,
   "metadata": {},
   "outputs": [],
   "source": [
    "def trans_model_predict(userId, train_moiveId, target_item, num):\n",
    "    features_all = all_users_id[:userId]+all_users_id[(userId+1):]\n",
    "    train_columns = [str(trans.index(i)+1) for i in train_movieId]\n",
    "    sub_df = user_movie_df[train_columns]\n",
    "    #print(sub_df)\n",
    "    list_all = [i for i in range(0,2*userId-2)]+[i for i in range(2*userId,2*last_user_id)]\n",
    "    features_all = sub_df.loc[list_all]\n",
    "    userlike_df = sub_df.loc[[2*userId-2]]\n",
    "    \n",
    "    #print(features_all,userlike_df)\n",
    "    observe_df = user_movie_df[[str(trans.index(target_item)+1)]]\n",
    "    true_rating = observe_df.loc[[2*userId-2]]\n",
    "    \n",
    "    true_rating = true_rating.values[0][0]\n",
    "    observe_df = observe_df.loc[list_all]\n",
    "    #rint(true_rating,observe_df)\n",
    "    #print(observe_df)\n",
    "    def entropy(v2):\n",
    "        v1=userlike_df.values\n",
    "        #print(v1)\n",
    "        v1=v1[0]\n",
    "        #print(v1)\n",
    "        index1=[i for i,x in enumerate(v2) if x==1]\n",
    "        index0=[i for i,x in enumerate(v2) if x==0]\n",
    "        gain = I(v1)-len(index1)/len(v2)*I(v1[index1])-len(index0)/len(v2)*I(v1[index0])\n",
    "        return gain\n",
    "    all_info_gain = list(map(entropy, features_all.values))\n",
    "    best_num = np.argsort(-np.array(all_info_gain))[:num]\n",
    "    #rint(best_num)\n",
    "    list_all2 = [list_all[i] for i in best_num]\n",
    "    best_feature = features_all.loc[list_all2]\n",
    "    #####(best_feature)\n",
    "    #####(userlike_df)\n",
    "    observe_feature = observe_df.loc[list_all2]\n",
    "    #####(observe_feature)\n",
    "    #print(userlike_df, observe_feature, best_feature)\n",
    "    def bayes_classfier(user_data, observe_data, feature_data):\n",
    "        user_data=user_data[0]\n",
    "        index1=[i for i,x in enumerate(user_data) if x==1]\n",
    "        index0=[i for i,x in enumerate(user_data) if x==0]\n",
    "        def cal_condp1(patial_feature, ob):\n",
    "            if ob==1:\n",
    "                condp=(sum(patial_feature[index1])+1)/(len(index1)+2)\n",
    "            else:\n",
    "                condp=(len(index1)-sum(patial_feature[index1])+1)/(len(index1)+2)\n",
    "            return condp\n",
    "        def cal_condp0(patial_feature, ob):\n",
    "            if ob==1:\n",
    "                condp=(sum(patial_feature[index0])+1)/(len(index0)+2)\n",
    "            else:\n",
    "                condp=(len(index0)-sum(patial_feature[index0])+1)/(len(index0)+2)\n",
    "            return condp\n",
    "        all_condp1 = [cal_condp1(feature_data[i],observe_data[i]) for i in range(len(feature_data))]\n",
    "        all_condp0 = [cal_condp0(feature_data[i],observe_data[i]) for i in range(len(feature_data))]\n",
    "        all_logp1 = [math.log(i,2) for i in all_condp1]\n",
    "        all_logp0= [math.log(i,2) for i in all_condp0]\n",
    "        if (len(user_data)-sum(user_data))==0:\n",
    "            return True, true_rating\n",
    "        if sum(user_data)==0:\n",
    "            return False, true_rating\n",
    "        condp1=math.log(sum(user_data)/len(user_data),2)+sum(all_logp1)\n",
    "        \n",
    "        #####(sum(user_data))\n",
    "        condp0=math.log((len(user_data)-sum(user_data)+0.0001)/len(user_data),2)+sum(all_logp0)\n",
    "        #####(condp1,condp0)\n",
    "        return (condp1>condp0), true_rating\n",
    "    return bayes_classfier(userlike_df.values, observe_feature.values, best_feature.values)"
   ]
  },
  {
   "cell_type": "code",
   "execution_count": 62,
   "metadata": {},
   "outputs": [],
   "source": [
    "def sparse_model_predict(userId, train_moiveId, target_item, num):\n",
    "    users_all = all_users_id[:userId]+all_users_id[(userId+1):]\n",
    "    train_columns = [str(trans.index(i)+1) for i in train_movieId]\n",
    "    sub_df = user_movie_df[train_columns]\n",
    "    #print(sub_df)\n",
    "    list_all = [i for i in range(0,2*userId-2)]+[i for i in range(2*userId,2*last_user_id)]\n",
    "    features_all = sub_df.loc[list_all]\n",
    "    userlike_df = sub_df.loc[[2*userId-2]]\n",
    "    \n",
    "    #print(features_all,userlike_df)\n",
    "    observe_df = user_movie_df[[str(trans.index(target_item)+1)]]\n",
    "    true_rating = observe_df.loc[[2*userId-2]]\n",
    "    \n",
    "    true_rating = true_rating.values[0][0]\n",
    "    observe_df = observe_df.loc[list_all]\n",
    "    #rint(true_rating,observe_df)\n",
    "    #print(observe_df)\n",
    "    def entropy(v2):\n",
    "        S=userlike_df.values\n",
    "        v1=v2[0]\n",
    "        v0=v2[1]\n",
    "        v_common = list(np.array(v1)+np.array(v0))\n",
    "        if sum(v_common)==0:\n",
    "            return 0, []\n",
    "        index_common = [i for i,x in enumerate(v_common) if x==1]\n",
    "        S=S[0]\n",
    "        index1=[i for i,x in enumerate(v1) if x==1]\n",
    "        index0=[i for i,x in enumerate(v1) if x==0]\n",
    "        gain1 = I(S)-len(index1)/len(v1)*I(S[index1])-len(index0)/len(v1)*I(S[index0])\n",
    "        index1=[i for i,x in enumerate(v0) if x==1]\n",
    "        index0=[i for i,x in enumerate(v0) if x==0]\n",
    "        gain0 = I(S)-len(index1)/len(v0)*I(S[index1])-len(index0)/len(v0)*I(S[index0])\n",
    "        index1=[i for i,x in enumerate(v1[index_common]) if x==1]\n",
    "        index0=[i for i,x in enumerate(v1[index_common]) if x==0]\n",
    "        S=S[index_common]\n",
    "        #print(S)\n",
    "        gain_common = I(S)-len(index1)/len(index_common)*I(S[index1])-len(index0)/len(index_common)*I(S[index0])\n",
    "        return gain0*gain1*gain_common, index_common\n",
    "    \n",
    "    feature_single = features_all.values\n",
    "    observe_single = observe_df.values\n",
    "    feature_double = [[feature_single[2*i], feature_single[2*i+1]] for i in range(len(users_all))]\n",
    "    observe_double = [[observe_single[2*i], observe_single[2*i+1]] for i in range(len(users_all))]\n",
    "    #all_info_gain = list(map(entropy, feature_double))\n",
    "    all_info_gain=[]\n",
    "    all_info_index=[]\n",
    "    for i in range(len(users_all)):\n",
    "        a,b = entropy(feature_double[i])\n",
    "        all_info_gain.append(a)\n",
    "        all_info_index.append(b)\n",
    "    best_num = np.argsort(-np.array(all_info_gain))\n",
    "    #rint(best_num)\n",
    "    list_all2 = [list_all[2*i] for i in best_num]\n",
    "    index_data = [all_info_index[i] for i in best_num]\n",
    "    #best_feature = features_all.loc[list_all2]\n",
    "    best_feature = [feature_double[i] for i in best_num]\n",
    "    #print(best_feature)\n",
    "    #print(userlike_df)\n",
    "    #observe_feature = observe_df.loc[list_all2]\n",
    "    observe_feature = [observe_double[i] for i in best_num]\n",
    "    k=0\n",
    "    j=0\n",
    "    best_feature2=[]\n",
    "    observe_feature2=[]\n",
    "    for k in range(len(observe_feature)):\n",
    "        if j>=num:\n",
    "            break\n",
    "        if sum(observe_feature[k])!=0:\n",
    "            j=j+1\n",
    "            best_feature2.append(best_feature[k])\n",
    "            observe_feature2.append(observe_feature[k])\n",
    "    #print(observe_feature)\n",
    "    #print(userlike_df, observe_feature, best_feature)\n",
    "    def bayes_classfier(user_data, observe_data, feature_data, index_data):\n",
    "        user_data=user_data[0]\n",
    "        def cal_condp1(patial_feature, ob, j):\n",
    "            #print(patial_feature[0]+patial_feature[1])\n",
    "            #print(index_data[j])\n",
    "            if sum(ob)==0:\n",
    "                return 1\n",
    "            patial_feature=patial_feature[ob.index(1)]\n",
    "            #print(patial_feature)\n",
    "            #print(ob.index(1))\n",
    "            user_data1=user_data[index_data[j]]\n",
    "            patial_feature=patial_feature[index_data[j]]\n",
    "            #print(user_data1, patial_feature)\n",
    "            index1=[i for i,x in enumerate(user_data1) if x==1]\n",
    "            index0=[i for i,x in enumerate(user_data1) if x==0]\n",
    "            condp=(sum(patial_feature[index1])+1)/(len(index1)+2)\n",
    "            #print(patial_feature[index1])\n",
    "            return condp\n",
    "        def cal_condp0(patial_feature, ob, j):\n",
    "            if sum(ob)==0:\n",
    "                return 1\n",
    "            patial_feature=patial_feature[ob.index(1)]\n",
    "            user_data0=user_data[index_data[j]]\n",
    "            patial_feature=patial_feature[index_data[j]]\n",
    "            index1=[i for i,x in enumerate(user_data0) if x==1]\n",
    "            index0=[i for i,x in enumerate(user_data0) if x==0]\n",
    "            condp=(sum(patial_feature[index0])+1)/(len(index0)+2)\n",
    "            #print(patial_feature[index0])\n",
    "            return condp\n",
    "        all_condp1 = [cal_condp1(feature_data[i],observe_data[i],i) for i in range(len(feature_data))]\n",
    "        all_condp0 = [cal_condp0(feature_data[i],observe_data[i],i) for i in range(len(feature_data))]\n",
    "        all_logp1 = [math.log(i,2) for i in all_condp1]\n",
    "        all_logp0= [math.log(i,2) for i in all_condp0]\n",
    "        condp1=math.log(sum(user_data)/len(user_data),2)+sum(all_logp1)\n",
    "        #print(all_condp1,all_condp0)\n",
    "        #print(sum(user_data))\n",
    "        condp0=math.log((len(user_data)-sum(user_data))/len(user_data),2)+sum(all_logp0)\n",
    "        #print(condp1,condp0)\n",
    "        return (condp1>condp0), true_rating\n",
    "    return bayes_classfier(userlike_df.values, observe_feature2, best_feature2, index_data)"
   ]
  },
  {
   "cell_type": "code",
   "execution_count": null,
   "metadata": {},
   "outputs": [
    {
     "name": "stdout",
     "output_type": "stream",
     "text": [
      "0\n",
      "0\n",
      "0\n",
      "1\n",
      "1\n",
      "1\n",
      "1\n",
      "2\n",
      "3\n",
      "3\n",
      "3\n",
      "3\n",
      "3\n",
      "3\n",
      "3\n",
      "3\n",
      "4\n",
      "4\n",
      "5\n",
      "6\n",
      "7\n",
      "7\n",
      "7\n",
      "8\n",
      "9\n",
      "9\n",
      "10\n",
      "10\n",
      "10\n",
      "10\n",
      "10\n",
      "10\n",
      "11\n",
      "11\n",
      "12\n",
      "12\n",
      "13\n",
      "14\n",
      "14\n",
      "14\n",
      "15\n",
      "15\n",
      "15\n",
      "16\n",
      "16\n",
      "16\n",
      "16\n",
      "17\n",
      "18\n",
      "18\n",
      "18\n",
      "18\n",
      "19\n",
      "19\n",
      "20\n",
      "20\n",
      "21\n",
      "21\n",
      "21\n",
      "21\n",
      "21\n",
      "22\n",
      "23\n",
      "23\n",
      "23\n",
      "23\n",
      "23\n",
      "23\n",
      "23\n",
      "24\n",
      "24\n",
      "24\n",
      "25\n",
      "26\n",
      "26\n",
      "26\n",
      "27\n",
      "27\n",
      "28\n",
      "28\n",
      "28\n",
      "28\n",
      "29\n",
      "30\n",
      "30\n",
      "30\n",
      "30\n",
      "31\n",
      "32\n"
     ]
    }
   ],
   "source": [
    "iteration = [1,10,20,40,100,200,400,800,1200]\n",
    "for num in iteration:\n",
    "    all_wrong=0\n",
    "    for j in range(20):\n",
    "        for i in range(40):\n",
    "            userId = test_users[j]\n",
    "            train_movieId = [test_users_movies[j][i] for i in test_users_movies_split[j][0]]\n",
    "            target_item = [test_users_movies[j][i] for i in test_users_movies_split[j][1]][i]\n",
    "            a,b = trans_model_predict(userId, train_movieId, target_item, num)\n",
    "            if (a-b)!=0:\n",
    "                all_wrong=all_wrong+1\n",
    "            print(all_wrong)\n",
    "    print(all_wrong)"
   ]
  },
  {
   "cell_type": "code",
   "execution_count": 67,
   "metadata": {},
   "outputs": [
    {
     "name": "stdout",
     "output_type": "stream",
     "text": [
      "229\n",
      "229\n"
     ]
    }
   ],
   "source": [
    "iteration = [1,10,20,40,100,200,400,800,1200]\n",
    "for num in iteration[:2]:\n",
    "    all_wrong=0\n",
    "    for j in range(20):\n",
    "        for i in range(40):\n",
    "            userId = test_users[j]\n",
    "            train_movieId = [test_users_movies[j][i] for i in test_users_movies_split[j][0]]\n",
    "            target_item = [test_users_movies[j][i] for i in test_users_movies_split[j][1]][i]\n",
    "            a,b = pure_predict(userId, train_movieId, target_item, num)\n",
    "            if (a-b)!=0:\n",
    "                all_wrong=all_wrong+1\n",
    "    print(all_wrong)"
   ]
  },
  {
   "cell_type": "code",
   "execution_count": 97,
   "metadata": {},
   "outputs": [
    {
     "name": "stdout",
     "output_type": "stream",
     "text": [
      "93\n",
      "75\n",
      "73\n",
      "69\n",
      "62\n",
      "61\n",
      "62\n"
     ]
    }
   ],
   "source": [
    "iteration = [10,20,30,40,50,60,70]\n",
    "for num in iteration:\n",
    "    all_wrong=0\n",
    "    for j in range(10):\n",
    "        all_movie = [test_users_movies[j][i] for i in test_users_movies_split[j][0]]+[test_users_movies[j][i] for i in test_users_movies_split[j][1]]\n",
    "        for i in range(20):\n",
    "            userId = test_users[j]\n",
    "            train_movieId = all_movie[:num]\n",
    "            target_item = all_movie[-20+i]\n",
    "            a,b = trans_model_predict(userId, train_movieId, target_item, 1200)\n",
    "            if (a-b)!=0:\n",
    "                all_wrong=all_wrong+1\n",
    "    print(all_wrong)"
   ]
  },
  {
   "cell_type": "code",
   "execution_count": 60,
   "metadata": {},
   "outputs": [
    {
     "name": "stdout",
     "output_type": "stream",
     "text": [
      "392\n",
      "344\n",
      "307\n",
      "237\n",
      "194\n",
      "147\n",
      "98\n"
     ]
    }
   ],
   "source": [
    "iteration = [10,20,30,40,50,60,70]\n",
    "for num in iteration:\n",
    "    all_wrong=0\n",
    "    for j in range(20):\n",
    "        all_movie = [test_users_movies[j][i] for i in test_users_movies_split[j][0]]+[test_users_movies[j][i] for i in test_users_movies_split[j][1]]\n",
    "        for i in range(90-num):\n",
    "            userId = test_users[j]\n",
    "            train_movieId = all_movie[:num]\n",
    "            target_item = all_movie[num+i]\n",
    "            a,b = pure_predict(userId, train_movieId, target_item, 1200)\n",
    "            if (a-b)!=0:\n",
    "                all_wrong=all_wrong+1\n",
    "    print(all_wrong)"
   ]
  },
  {
   "cell_type": "code",
   "execution_count": 60,
   "metadata": {},
   "outputs": [
    {
     "name": "stdout",
     "output_type": "stream",
     "text": [
      "[0 0 0 0 0 0 0 0 0 0 0 0 1 0 0 0 0 0 0 0 0 0 1 0 0 0 0 1 1 0 0 0 0 0 0 0 0\n",
      " 0 0 0 0 1 0 0 0 0 0 0 0 0 0 0 0 0 0 0 0 0 1 1 1 0 0 0 0 1 0 1 1 0 0 0 0 0\n",
      " 0 0 0 0 0 0 1 0 0 0 0 0 0 0 0 0 0 0 0 0 0 0 0 0 0 0]\n",
      "[12, 13, 28, 31, 39, 41, 45, 60, 65, 68, 86, 89, 99]\n",
      "[0 0 0 0 0 0 0 0 0 0 0 0 0 0 0 0 0 0 0 0 0 0 0 0 0 0 0 1 0 0 0 0 0 0 0 0 0\n",
      " 0 0 0 0 1 0 0 0 0 0 0 0 0 0 0 0 0 0 0 0 0 1 0 0 0 0 0 0 0 0 0 0 0 0 0 0 0\n",
      " 0 0 0 0 0 0 1 0 0 0 0 0 0 0 0 0 0 0 0 0 0 0 0 0 0 0]\n",
      "1\n",
      "[1 0 1 0 0 0 0 1 1 1 1 0 0] [0 0 0 0 0 1 0 0 0 0 0 0 0]\n",
      "[0 0 0 0 0 0]\n",
      "[0 0 0 1 0 0 0]\n",
      "[0.125] [0.2222222222222222]\n",
      "32\n",
      "False 1\n"
     ]
    }
   ],
   "source": [
    "j=1\n",
    "i=0\n",
    "num=1\n",
    "for i in range(7,8):\n",
    "    userId = test_users[j]\n",
    "    train_movieId = [test_users_movies[j][i] for i in test_users_movies_split[j][0]]\n",
    "    target_item = [test_users_movies[j][i] for i in test_users_movies_split[j][1]][i]\n",
    "    a,b = sparse_model_predict(userId, train_movieId, target_item, num)\n",
    "    print(a,b)"
   ]
  },
  {
   "cell_type": "code",
   "execution_count": 63,
   "metadata": {},
   "outputs": [
    {
     "name": "stdout",
     "output_type": "stream",
     "text": [
      "True 1\n"
     ]
    }
   ],
   "source": [
    "j=1\n",
    "i=0\n",
    "num=3\n",
    "for i in range(4,5):\n",
    "    userId = test_users[j]\n",
    "    train_movieId = [test_users_movies[j][i] for i in test_users_movies_split[j][0]]\n",
    "    target_item = [test_users_movies[j][i] for i in test_users_movies_split[j][1]][i]\n",
    "    a,b = sparse_model_predict(userId, train_movieId, target_item, num)\n",
    "    print(a,b)"
   ]
  },
  {
   "cell_type": "code",
   "execution_count": 64,
   "metadata": {},
   "outputs": [
    {
     "name": "stdout",
     "output_type": "stream",
     "text": [
      "127\n",
      "120\n",
      "125\n",
      "111\n",
      "109\n",
      "115\n",
      "113\n",
      "119\n",
      "121\n",
      "117\n",
      "119\n",
      "128\n"
     ]
    }
   ],
   "source": [
    "iteration = [1,5,10,15,20,25,50,100,200,400,800,1600]\n",
    "for num in iteration:\n",
    "    all_wrong=0\n",
    "    for j in range(10):\n",
    "        for i in range(40):\n",
    "            userId = test_users[j]\n",
    "            train_movieId = [test_users_movies[j][i] for i in test_users_movies_split[j][0]]\n",
    "            target_item = [test_users_movies[j][i] for i in test_users_movies_split[j][1]][i]\n",
    "            a,b = sparse_model_predict(userId, train_movieId, target_item, num)\n",
    "            if (a-b)!=0:\n",
    "                all_wrong=all_wrong+1\n",
    "    print(all_wrong)"
   ]
  },
  {
   "cell_type": "code",
   "execution_count": 95,
   "metadata": {},
   "outputs": [
    {
     "name": "stdout",
     "output_type": "stream",
     "text": [
      "144\n",
      "150\n",
      "155\n",
      "165\n",
      "161\n"
     ]
    },
    {
     "ename": "KeyboardInterrupt",
     "evalue": "",
     "output_type": "error",
     "traceback": [
      "\u001b[1;31m---------------------------------------------------------------------------\u001b[0m",
      "\u001b[1;31mKeyboardInterrupt\u001b[0m                         Traceback (most recent call last)",
      "\u001b[1;32m<ipython-input-95-af99a8418bfc>\u001b[0m in \u001b[0;36m<module>\u001b[1;34m\u001b[0m\n\u001b[0;32m      7\u001b[0m             \u001b[0mtrain_movieId\u001b[0m \u001b[1;33m=\u001b[0m \u001b[1;33m[\u001b[0m\u001b[0mtest_users_movies\u001b[0m\u001b[1;33m[\u001b[0m\u001b[0mj\u001b[0m\u001b[1;33m]\u001b[0m\u001b[1;33m[\u001b[0m\u001b[0mi\u001b[0m\u001b[1;33m]\u001b[0m \u001b[1;32mfor\u001b[0m \u001b[0mi\u001b[0m \u001b[1;32min\u001b[0m \u001b[0mtest_users_movies_split\u001b[0m\u001b[1;33m[\u001b[0m\u001b[0mj\u001b[0m\u001b[1;33m]\u001b[0m\u001b[1;33m[\u001b[0m\u001b[1;36m0\u001b[0m\u001b[1;33m]\u001b[0m\u001b[1;33m]\u001b[0m\u001b[1;33m\u001b[0m\u001b[0m\n\u001b[0;32m      8\u001b[0m             \u001b[0mtarget_item\u001b[0m \u001b[1;33m=\u001b[0m \u001b[1;33m[\u001b[0m\u001b[0mtest_users_movies\u001b[0m\u001b[1;33m[\u001b[0m\u001b[0mj\u001b[0m\u001b[1;33m]\u001b[0m\u001b[1;33m[\u001b[0m\u001b[0mi\u001b[0m\u001b[1;33m]\u001b[0m \u001b[1;32mfor\u001b[0m \u001b[0mi\u001b[0m \u001b[1;32min\u001b[0m \u001b[0mtest_users_movies_split\u001b[0m\u001b[1;33m[\u001b[0m\u001b[0mj\u001b[0m\u001b[1;33m]\u001b[0m\u001b[1;33m[\u001b[0m\u001b[1;36m1\u001b[0m\u001b[1;33m]\u001b[0m\u001b[1;33m]\u001b[0m\u001b[1;33m[\u001b[0m\u001b[0mi\u001b[0m\u001b[1;33m]\u001b[0m\u001b[1;33m\u001b[0m\u001b[0m\n\u001b[1;32m----> 9\u001b[1;33m             \u001b[0ma\u001b[0m\u001b[1;33m,\u001b[0m\u001b[0mb\u001b[0m \u001b[1;33m=\u001b[0m \u001b[0msparse_model_predict\u001b[0m\u001b[1;33m(\u001b[0m\u001b[0muserId\u001b[0m\u001b[1;33m,\u001b[0m \u001b[0mtrain_movieId\u001b[0m\u001b[1;33m,\u001b[0m \u001b[0mtarget_item\u001b[0m\u001b[1;33m,\u001b[0m \u001b[0mnum\u001b[0m\u001b[1;33m)\u001b[0m\u001b[1;33m\u001b[0m\u001b[0m\n\u001b[0m\u001b[0;32m     10\u001b[0m             \u001b[1;32mif\u001b[0m \u001b[1;33m(\u001b[0m\u001b[0ma\u001b[0m\u001b[1;33m-\u001b[0m\u001b[0mb\u001b[0m\u001b[1;33m)\u001b[0m\u001b[1;33m!=\u001b[0m\u001b[1;36m0\u001b[0m\u001b[1;33m:\u001b[0m\u001b[1;33m\u001b[0m\u001b[0m\n\u001b[0;32m     11\u001b[0m                 \u001b[0mall_wrong\u001b[0m\u001b[1;33m=\u001b[0m\u001b[0mall_wrong\u001b[0m\u001b[1;33m+\u001b[0m\u001b[1;36m1\u001b[0m\u001b[1;33m\u001b[0m\u001b[0m\n",
      "\u001b[1;32m<ipython-input-62-2c15f9ec03dc>\u001b[0m in \u001b[0;36msparse_model_predict\u001b[1;34m(userId, train_moiveId, target_item, num)\u001b[0m\n\u001b[0;32m     46\u001b[0m     \u001b[0mall_info_index\u001b[0m\u001b[1;33m=\u001b[0m\u001b[1;33m[\u001b[0m\u001b[1;33m]\u001b[0m\u001b[1;33m\u001b[0m\u001b[0m\n\u001b[0;32m     47\u001b[0m     \u001b[1;32mfor\u001b[0m \u001b[0mi\u001b[0m \u001b[1;32min\u001b[0m \u001b[0mrange\u001b[0m\u001b[1;33m(\u001b[0m\u001b[0mlen\u001b[0m\u001b[1;33m(\u001b[0m\u001b[0musers_all\u001b[0m\u001b[1;33m)\u001b[0m\u001b[1;33m)\u001b[0m\u001b[1;33m:\u001b[0m\u001b[1;33m\u001b[0m\u001b[0m\n\u001b[1;32m---> 48\u001b[1;33m         \u001b[0ma\u001b[0m\u001b[1;33m,\u001b[0m\u001b[0mb\u001b[0m \u001b[1;33m=\u001b[0m \u001b[0mentropy\u001b[0m\u001b[1;33m(\u001b[0m\u001b[0mfeature_double\u001b[0m\u001b[1;33m[\u001b[0m\u001b[0mi\u001b[0m\u001b[1;33m]\u001b[0m\u001b[1;33m)\u001b[0m\u001b[1;33m\u001b[0m\u001b[0m\n\u001b[0m\u001b[0;32m     49\u001b[0m         \u001b[0mall_info_gain\u001b[0m\u001b[1;33m.\u001b[0m\u001b[0mappend\u001b[0m\u001b[1;33m(\u001b[0m\u001b[0ma\u001b[0m\u001b[1;33m)\u001b[0m\u001b[1;33m\u001b[0m\u001b[0m\n\u001b[0;32m     50\u001b[0m         \u001b[0mall_info_index\u001b[0m\u001b[1;33m.\u001b[0m\u001b[0mappend\u001b[0m\u001b[1;33m(\u001b[0m\u001b[0mb\u001b[0m\u001b[1;33m)\u001b[0m\u001b[1;33m\u001b[0m\u001b[0m\n",
      "\u001b[1;32m<ipython-input-62-2c15f9ec03dc>\u001b[0m in \u001b[0;36mentropy\u001b[1;34m(v2)\u001b[0m\n\u001b[0;32m     30\u001b[0m         \u001b[0mindex1\u001b[0m\u001b[1;33m=\u001b[0m\u001b[1;33m[\u001b[0m\u001b[0mi\u001b[0m \u001b[1;32mfor\u001b[0m \u001b[0mi\u001b[0m\u001b[1;33m,\u001b[0m\u001b[0mx\u001b[0m \u001b[1;32min\u001b[0m \u001b[0menumerate\u001b[0m\u001b[1;33m(\u001b[0m\u001b[0mv0\u001b[0m\u001b[1;33m)\u001b[0m \u001b[1;32mif\u001b[0m \u001b[0mx\u001b[0m\u001b[1;33m==\u001b[0m\u001b[1;36m1\u001b[0m\u001b[1;33m]\u001b[0m\u001b[1;33m\u001b[0m\u001b[0m\n\u001b[0;32m     31\u001b[0m         \u001b[0mindex0\u001b[0m\u001b[1;33m=\u001b[0m\u001b[1;33m[\u001b[0m\u001b[0mi\u001b[0m \u001b[1;32mfor\u001b[0m \u001b[0mi\u001b[0m\u001b[1;33m,\u001b[0m\u001b[0mx\u001b[0m \u001b[1;32min\u001b[0m \u001b[0menumerate\u001b[0m\u001b[1;33m(\u001b[0m\u001b[0mv0\u001b[0m\u001b[1;33m)\u001b[0m \u001b[1;32mif\u001b[0m \u001b[0mx\u001b[0m\u001b[1;33m==\u001b[0m\u001b[1;36m0\u001b[0m\u001b[1;33m]\u001b[0m\u001b[1;33m\u001b[0m\u001b[0m\n\u001b[1;32m---> 32\u001b[1;33m         \u001b[0mgain0\u001b[0m \u001b[1;33m=\u001b[0m \u001b[0mI\u001b[0m\u001b[1;33m(\u001b[0m\u001b[0mS\u001b[0m\u001b[1;33m)\u001b[0m\u001b[1;33m-\u001b[0m\u001b[0mlen\u001b[0m\u001b[1;33m(\u001b[0m\u001b[0mindex1\u001b[0m\u001b[1;33m)\u001b[0m\u001b[1;33m/\u001b[0m\u001b[0mlen\u001b[0m\u001b[1;33m(\u001b[0m\u001b[0mv0\u001b[0m\u001b[1;33m)\u001b[0m\u001b[1;33m*\u001b[0m\u001b[0mI\u001b[0m\u001b[1;33m(\u001b[0m\u001b[0mS\u001b[0m\u001b[1;33m[\u001b[0m\u001b[0mindex1\u001b[0m\u001b[1;33m]\u001b[0m\u001b[1;33m)\u001b[0m\u001b[1;33m-\u001b[0m\u001b[0mlen\u001b[0m\u001b[1;33m(\u001b[0m\u001b[0mindex0\u001b[0m\u001b[1;33m)\u001b[0m\u001b[1;33m/\u001b[0m\u001b[0mlen\u001b[0m\u001b[1;33m(\u001b[0m\u001b[0mv0\u001b[0m\u001b[1;33m)\u001b[0m\u001b[1;33m*\u001b[0m\u001b[0mI\u001b[0m\u001b[1;33m(\u001b[0m\u001b[0mS\u001b[0m\u001b[1;33m[\u001b[0m\u001b[0mindex0\u001b[0m\u001b[1;33m]\u001b[0m\u001b[1;33m)\u001b[0m\u001b[1;33m\u001b[0m\u001b[0m\n\u001b[0m\u001b[0;32m     33\u001b[0m         \u001b[0mindex1\u001b[0m\u001b[1;33m=\u001b[0m\u001b[1;33m[\u001b[0m\u001b[0mi\u001b[0m \u001b[1;32mfor\u001b[0m \u001b[0mi\u001b[0m\u001b[1;33m,\u001b[0m\u001b[0mx\u001b[0m \u001b[1;32min\u001b[0m \u001b[0menumerate\u001b[0m\u001b[1;33m(\u001b[0m\u001b[0mv1\u001b[0m\u001b[1;33m[\u001b[0m\u001b[0mindex_common\u001b[0m\u001b[1;33m]\u001b[0m\u001b[1;33m)\u001b[0m \u001b[1;32mif\u001b[0m \u001b[0mx\u001b[0m\u001b[1;33m==\u001b[0m\u001b[1;36m1\u001b[0m\u001b[1;33m]\u001b[0m\u001b[1;33m\u001b[0m\u001b[0m\n\u001b[0;32m     34\u001b[0m         \u001b[0mindex0\u001b[0m\u001b[1;33m=\u001b[0m\u001b[1;33m[\u001b[0m\u001b[0mi\u001b[0m \u001b[1;32mfor\u001b[0m \u001b[0mi\u001b[0m\u001b[1;33m,\u001b[0m\u001b[0mx\u001b[0m \u001b[1;32min\u001b[0m \u001b[0menumerate\u001b[0m\u001b[1;33m(\u001b[0m\u001b[0mv1\u001b[0m\u001b[1;33m[\u001b[0m\u001b[0mindex_common\u001b[0m\u001b[1;33m]\u001b[0m\u001b[1;33m)\u001b[0m \u001b[1;32mif\u001b[0m \u001b[0mx\u001b[0m\u001b[1;33m==\u001b[0m\u001b[1;36m0\u001b[0m\u001b[1;33m]\u001b[0m\u001b[1;33m\u001b[0m\u001b[0m\n",
      "\u001b[1;31mKeyboardInterrupt\u001b[0m: "
     ]
    }
   ],
   "source": [
    "iteration = [1,5,10,15,20,25,50,100,200,400,800,1600]\n",
    "for num in iteration:\n",
    "    all_wrong=0\n",
    "    for j in range(10,20):\n",
    "        for i in range(40):\n",
    "            userId = test_users[j]\n",
    "            train_movieId = [test_users_movies[j][i] for i in test_users_movies_split[j][0]]\n",
    "            target_item = [test_users_movies[j][i] for i in test_users_movies_split[j][1]][i]\n",
    "            a,b = sparse_model_predict(userId, train_movieId, target_item, num)\n",
    "            if (a-b)!=0:\n",
    "                all_wrong=all_wrong+1\n",
    "    print(all_wrong)"
   ]
  },
  {
   "cell_type": "code",
   "execution_count": 14,
   "metadata": {},
   "outputs": [
    {
     "name": "stdout",
     "output_type": "stream",
     "text": [
      "307\n"
     ]
    }
   ],
   "source": [
    "num=100\n",
    "all_wrong=0\n",
    "for j in range(20):\n",
    "    for i in range(40):\n",
    "        userId = test_users[j]\n",
    "        train_movieId = [test_users_movies[j][i] for i in test_users_movies_split[j][0]]\n",
    "        target_item = [test_users_movies[j][i] for i in test_users_movies_split[j][1]][i]\n",
    "        a,b = pure_predict(userId, train_movieId, target_item, num)\n",
    "        if (a-b)!=0:\n",
    "            all_wrong=all_wrong+1\n",
    "print(all_wrong)"
   ]
  },
  {
   "cell_type": "code",
   "execution_count": 94,
   "metadata": {},
   "outputs": [
    {
     "name": "stdout",
     "output_type": "stream",
     "text": [
      "[2288 4498 5888 4854 1509 4861 3301 1502 1243 3868 5340 1616 2304 1206\n",
      " 4312 4884 2540 2866 1181 5103]\n"
     ]
    }
   ],
   "source": [
    "print(test_users)"
   ]
  },
  {
   "cell_type": "code",
   "execution_count": 58,
   "metadata": {},
   "outputs": [],
   "source": [
    "test_users=np.load('test_users.npy')\n",
    "test_users_movies=np.load('test_users_movies.npy',allow_pickle=True)\n",
    "test_users_movies_split=np.load('test_users_movies_split.npy',allow_pickle=True)"
   ]
  },
  {
   "cell_type": "code",
   "execution_count": 93,
   "metadata": {},
   "outputs": [
    {
     "name": "stdout",
     "output_type": "stream",
     "text": [
      "0.7606164\n"
     ]
    }
   ],
   "source": [
    "def getDCG(scores):\n",
    "    return np.sum(\n",
    "        np.divide(np.power(2, scores) - 1, np.log(np.arange(scores.shape[0], dtype=np.float32) + 2)),\n",
    "        dtype=np.float32)\n",
    "\n",
    "\n",
    "def getNDCG(rank_list, pos_items):\n",
    "    relevance = np.ones_like(pos_items)\n",
    "    it2rel = {it: r for it, r in zip(pos_items, relevance)}\n",
    "    rank_scores = np.asarray([it2rel.get(it, 0.0) for it in rank_list], dtype=np.float32)\n",
    "\n",
    "    idcg = getDCG(relevance)\n",
    "\n",
    "    dcg = getDCG(rank_scores)\n",
    "\n",
    "    if dcg == 0.0:\n",
    "        return 0.0\n",
    "\n",
    "    ndcg = dcg / idcg\n",
    "    return ndcg\n",
    "\n",
    "l1 = [1,9,1,1,1,1,1,9]\n",
    "l2 = [1, 2, 3,4,5,6,7,8]\n",
    "a = getNDCG(l1, l2)\n",
    "print(a)"
   ]
  },
  {
   "cell_type": "code",
   "execution_count": null,
   "metadata": {},
   "outputs": [],
   "source": [
    "data1=np.load('data0_200.npy')\n",
    "data2=np.load('data200_400.npy')\n",
    "data3=np.load('data400_600.npy')\n",
    "data4=np.load('data600_800.npy')\n",
    "data5=np.load('data800_1000.npy')\n",
    "data6=np.load('data1000_1200.npy')"
   ]
  }
 ],
 "metadata": {
  "kernelspec": {
   "display_name": "Python 3",
   "language": "python",
   "name": "python3"
  },
  "language_info": {
   "codemirror_mode": {
    "name": "ipython",
    "version": 3
   },
   "file_extension": ".py",
   "mimetype": "text/x-python",
   "name": "python",
   "nbconvert_exporter": "python",
   "pygments_lexer": "ipython3",
   "version": "3.6.5"
  }
 },
 "nbformat": 4,
 "nbformat_minor": 4
}
