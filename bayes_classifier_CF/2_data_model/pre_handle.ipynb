{
 "cells": [
  {
   "cell_type": "code",
   "execution_count": 54,
   "metadata": {},
   "outputs": [],
   "source": [
    "import numpy as np\n",
    "import pandas as pd"
   ]
  },
  {
   "cell_type": "code",
   "execution_count": 69,
   "metadata": {},
   "outputs": [
    {
     "name": "stderr",
     "output_type": "stream",
     "text": [
      "i:\\机器人小组专用\\深度学习处理图像\\python\\lib\\site-packages\\ipykernel_launcher.py:11: FutureWarning: \n",
      ".ix is deprecated. Please use\n",
      ".loc for label based indexing or\n",
      ".iloc for positional indexing\n",
      "\n",
      "See the documentation here:\n",
      "http://pandas.pydata.org/pandas-docs/stable/user_guide/indexing.html#ix-indexer-is-deprecated\n",
      "  # This is added back by InteractiveShellApp.init_path()\n"
     ]
    }
   ],
   "source": [
    "raw_rating_data = pd.read_csv('ratings.csv')\n",
    "raw_movies_data = pd.read_csv('movies.csv')\n",
    "all_users_id = set(list(raw_rating_data['userId']))\n",
    "all_movies_id = set(list(raw_movies_data['movieId']))\n",
    "trans = list(all_movies_id)\n",
    "trans.sort()\n",
    "last_user_id = max(all_users_id)\n",
    "last_movie_id = max(set(list(raw_rating_data['movieId'])))\n",
    "user_movie_mat = []\n",
    "for i in range(last_user_id):\n",
    "    sub_rating_data = raw_rating_data.ix[raw_rating_data.userId==(i+1)]\n",
    "    sub_userlike_rating = list(np.zeros(len(all_movies_id), dtype='int'))\n",
    "    sub_userdislike_rating = list(np.zeros(len(all_movies_id), dtype='int'))\n",
    "    for j in list(sub_rating_data['movieId']):\n",
    "        sub_user_rating=list(sub_rating_data['rating'])[list(sub_rating_data['movieId']).index(j)]\n",
    "        sub_userlike_rating[trans.index(j)] = int(sub_user_rating>=3.5)\n",
    "        sub_userdislike_rating[trans.index(j)] = int(sub_user_rating<3.5)\n",
    "    user_movie_mat.append(sub_userlike_rating)\n",
    "    user_movie_mat.append(sub_userdislike_rating)"
   ]
  },
  {
   "cell_type": "code",
   "execution_count": 70,
   "metadata": {},
   "outputs": [
    {
     "name": "stdout",
     "output_type": "stream",
     "text": [
      "输出完成\n"
     ]
    }
   ],
   "source": [
    "user_cate_df = pd.DataFrame(user_movie_mat)\n",
    "user_cate_df.index = np.arange(last_user_id*2)+1\n",
    "user_cate_df.columns = np.arange(len(all_movies_id))+1\n",
    "\n",
    "user_cate_df.to_csv('test1.csv',index=False) # 数据转化为CSV，并且将index行隐藏，得到每个用户的浏览新闻类别统计矩阵（28501×38）\n",
    "print(\"输出完成\")"
   ]
  },
  {
   "cell_type": "code",
   "execution_count": null,
   "metadata": {},
   "outputs": [],
   "source": []
  }
 ],
 "metadata": {
  "kernelspec": {
   "display_name": "Python 3",
   "language": "python",
   "name": "python3"
  },
  "language_info": {
   "codemirror_mode": {
    "name": "ipython",
    "version": 3
   },
   "file_extension": ".py",
   "mimetype": "text/x-python",
   "name": "python",
   "nbconvert_exporter": "python",
   "pygments_lexer": "ipython3",
   "version": "3.6.5"
  }
 },
 "nbformat": 4,
 "nbformat_minor": 4
}
